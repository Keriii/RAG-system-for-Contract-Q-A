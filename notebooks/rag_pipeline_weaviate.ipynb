{
 "cells": [
  {
   "cell_type": "markdown",
   "metadata": {},
   "source": [
    "Import the packages"
   ]
  },
  {
   "cell_type": "code",
   "execution_count": 6,
   "metadata": {},
   "outputs": [],
   "source": [
    "import os\n",
    "import sys\n",
    "# from langchain_community.document_loaders import pypdf\n",
    "from langchain.text_splitter import CharacterTextSplitter, RecursiveCharacterTextSplitter\n",
    "from langchain.chat_models import ChatOpenAI\n",
    "from langchain.vectorstores import Weaviate\n",
    "from langchain.agents import AgentType, initialize_agent\n",
    "from langchain.schema import SystemMessage\n",
    "from langchain.embeddings import OpenAIEmbeddings\n",
    "from typing import List,Union\n",
    "from weaviate.embedded import EmbeddedOptions\n",
    "from dotenv import load_dotenv"
   ]
  },
  {
   "cell_type": "code",
   "execution_count": 4,
   "metadata": {},
   "outputs": [],
   "source": [
    "from langchain_community.document_loaders import PyPDFLoader"
   ]
  },
  {
   "cell_type": "markdown",
   "metadata": {},
   "source": [
    "load the contract and chunk it"
   ]
  },
  {
   "cell_type": "code",
   "execution_count": 7,
   "metadata": {},
   "outputs": [],
   "source": [
    "loader = PyPDFLoader('../data/RaptorContract.pdf')\n",
    "contract = loader.load()\n",
    "\n",
    "text_splitter = RecursiveCharacterTextSplitter(chunk_size=1000, chunk_overlap=0)\n",
    "chunk = text_splitter.split_documents(contract)\n"
   ]
  },
  {
   "cell_type": "markdown",
   "metadata": {},
   "source": [
    "create an embeder and vectorstore"
   ]
  },
  {
   "cell_type": "code",
   "execution_count": 12,
   "metadata": {},
   "outputs": [
    {
     "name": "stderr",
     "output_type": "stream",
     "text": [
      "/home/kerod/Desktop/week_11/RAG-system-for-Contract-Q-A/week_11/lib/python3.10/site-packages/weaviate/warnings.py:158: DeprecationWarning: Dep016: You are using the Weaviate v3 client, which is deprecated.\n",
      "            Consider upgrading to the new and improved v4 client instead!\n",
      "            See here for usage: https://weaviate.io/developers/weaviate/client-libraries/python\n",
      "            \n",
      "  warnings.warn(\n"
     ]
    },
    {
     "name": "stdout",
     "output_type": "stream",
     "text": [
      "Binary /home/kerod/.cache/weaviate-embedded did not exist. Downloading binary from https://github.com/weaviate/weaviate/releases/download/v1.23.7/weaviate-v1.23.7-Linux-amd64.tar.gz\n",
      "Started /home/kerod/.cache/weaviate-embedded: process ID 41725\n"
     ]
    },
    {
     "name": "stderr",
     "output_type": "stream",
     "text": [
      "{\"action\":\"startup\",\"default_vectorizer_module\":\"none\",\"level\":\"info\",\"msg\":\"the default vectorizer modules is set to \\\"none\\\", as a result all new schema classes without an explicit vectorizer setting, will use this vectorizer\",\"time\":\"2024-02-23T02:10:50+03:00\"}\n",
      "{\"action\":\"startup\",\"auto_schema_enabled\":true,\"level\":\"info\",\"msg\":\"auto schema enabled setting is set to \\\"true\\\"\",\"time\":\"2024-02-23T02:10:50+03:00\"}\n",
      "{\"level\":\"info\",\"msg\":\"No resource limits set, weaviate will use all available memory and CPU. To limit resources, set LIMIT_RESOURCES=true\",\"time\":\"2024-02-23T02:10:50+03:00\"}\n",
      "{\"level\":\"warning\",\"msg\":\"Multiple vector spaces are present, GraphQL Explore and REST API list objects endpoint module include params has been disabled as a result.\",\"time\":\"2024-02-23T02:10:50+03:00\"}\n",
      "{\"action\":\"grpc_startup\",\"level\":\"info\",\"msg\":\"grpc server listening at [::]:50060\",\"time\":\"2024-02-23T02:10:50+03:00\"}\n",
      "{\"action\":\"restapi_management\",\"level\":\"info\",\"msg\":\"Serving weaviate at http://127.0.0.1:8079\",\"time\":\"2024-02-23T02:10:50+03:00\"}\n",
      "{\"level\":\"info\",\"msg\":\"Completed loading shard langchain_0dac4f57195049cf9e626f0507b92a08_G7DvBfAP80yC in 28.50359ms\",\"time\":\"2024-02-23T02:10:51+03:00\"}\n",
      "{\"action\":\"hnsw_vector_cache_prefill\",\"count\":3000,\"index_id\":\"main\",\"level\":\"info\",\"limit\":1000000000000,\"msg\":\"prefilled vector cache\",\"time\":\"2024-02-23T02:10:51+03:00\",\"took\":390360}\n",
      "{\"level\":\"info\",\"msg\":\"Completed loading shard langchain_19683bb8bf754320952753ba371ce19f_1rBIP5Ah3nZh in 46.019514ms\",\"time\":\"2024-02-23T02:10:51+03:00\"}\n",
      "{\"action\":\"hnsw_vector_cache_prefill\",\"count\":3000,\"index_id\":\"main\",\"level\":\"info\",\"limit\":1000000000000,\"msg\":\"prefilled vector cache\",\"time\":\"2024-02-23T02:10:51+03:00\",\"took\":729288}\n",
      "{\"level\":\"info\",\"msg\":\"Completed loading shard langchain_9b8ead7718094d699e80f33557d178d7_5yvG0pmAvfi5 in 48.185919ms\",\"time\":\"2024-02-23T02:10:51+03:00\"}\n",
      "{\"action\":\"hnsw_vector_cache_prefill\",\"count\":3000,\"index_id\":\"main\",\"level\":\"info\",\"limit\":1000000000000,\"msg\":\"prefilled vector cache\",\"time\":\"2024-02-23T02:10:51+03:00\",\"took\":496336}\n"
     ]
    }
   ],
   "source": [
    "import weaviate\n",
    "\n",
    "client = weaviate.Client(embedded_options=EmbeddedOptions)"
   ]
  },
  {
   "cell_type": "code",
   "execution_count": 16,
   "metadata": {},
   "outputs": [
    {
     "name": "stderr",
     "output_type": "stream",
     "text": [
      "/home/kerod/Desktop/week_11/RAG-system-for-Contract-Q-A/week_11/lib/python3.10/site-packages/langchain_core/_api/deprecation.py:117: LangChainDeprecationWarning: The class `langchain_community.embeddings.openai.OpenAIEmbeddings` was deprecated in langchain-community 0.1.0 and will be removed in 0.2.0. An updated version of the class exists in the langchain-openai package and should be used instead. To use it run `pip install -U langchain-openai` and import as `from langchain_openai import OpenAIEmbeddings`.\n",
      "  warn_deprecated(\n",
      "{\"level\":\"info\",\"msg\":\"Created shard langchain_70dc1775e9c5474cb1da9f8ec3a1274a_5YbWPc6IDoOo in 3.329098ms\",\"time\":\"2024-02-23T02:16:40+03:00\"}\n",
      "{\"action\":\"hnsw_vector_cache_prefill\",\"count\":1000,\"index_id\":\"main\",\"level\":\"info\",\"limit\":1000000000000,\"msg\":\"prefilled vector cache\",\"time\":\"2024-02-23T02:16:40+03:00\",\"took\":362280}\n"
     ]
    }
   ],
   "source": [
    "vectorstore = Weaviate.from_documents(client =  client,\n",
    "                                      documents= chunk,\n",
    "                                      embedding=OpenAIEmbeddings(),\n",
    "                                      by_text = False)"
   ]
  },
  {
   "cell_type": "markdown",
   "metadata": {},
   "source": [
    "DO a similarity search"
   ]
  },
  {
   "cell_type": "code",
   "execution_count": 17,
   "metadata": {},
   "outputs": [],
   "source": [
    "query = \"Are there any conditions to the closing?\"\n",
    "similarity_search = vectorstore.similarity_search(query)"
   ]
  },
  {
   "cell_type": "code",
   "execution_count": 19,
   "metadata": {},
   "outputs": [
    {
     "data": {
      "text/plain": [
       "[Document(page_content='adjustments\\ncontemplated\\nin\\nthis\\nAgreement,\\nis \\nreferred\\nto\\nherein\\nas\\nthe\\n“\\nPurchase\\nPrice\\n”.\\nSection\\nII.03\\nThe\\nClosing\\n.\\nThe\\npurchase\\nand\\nsale\\nof\\nthe\\nShares\\n(the\\n“\\nClosing\\n”)\\nshall \\ntake\\nplace\\non\\nthe\\ndate\\nhereof\\n(the\\n“\\nClosing\\nDate\\n”)\\nby\\nexchange\\nof\\ndocuments\\nand\\nsignatures\\n(or \\ntheir\\nelectronic\\ncounterparts).\\nThe\\nconsummation\\nof\\nthe\\ntransactions\\ncontemplated\\nby\\nthis \\nAgreement\\nshall\\nbe\\ndeemed\\nto\\noccur\\nat\\n12:01\\na.m.\\nPacific\\nStandard\\nTime\\non\\nthe\\nClosing\\nDate.\\nSection\\nII.04\\nClosing\\nPayments\\n.\\n(a)\\nAt\\nthe\\nClosing,\\nBuyer\\nshall\\npay,\\nor\\ncause\\nto\\nbe\\npaid,\\nthrough\\npayment\\nto\\nthe \\nPaying\\nAgent\\nwhich\\nwill\\nin\\nturn\\nmake\\nthe\\nfollowing\\npayments,\\nin\\ncash\\nby\\nwire\\ntransfer\\nof \\nimmediately\\navailable\\nfunds\\n–(a)\\nthe\\nClosing\\nCash\\nConsideration\\nto\\nor\\nfor\\nthe\\naccount\\nof\\nSellers, \\n(b)\\nthe\\nWarrant\\nClosing\\nCash\\nConsideration\\nto\\nor\\nfor\\nthe\\naccount\\nof\\nWarrantholders,\\n(c)\\nthe \\nClosing\\nVested\\nOptions\\nCash\\nConsideration\\nto\\nthe\\n[102\\nTrustee]\\nfor\\nthe\\nbenefit\\nof\\nthe\\nVested\\n-\\n16\\n-\\n112923184_5', metadata={'page': 20, 'source': '../data/RaptorContract.pdf'}),\n",
       " Document(page_content='coverage\\nunder ,\\nany\\nCurrent \\nLiability\\nPolicy .\\nExcept\\nas\\ndisclosed\\non\\nSchedule\\n 3.21\\n,\\nthe\\nAcquired\\nCompanies\\nwill \\nimmediately\\nafter\\nthe\\nClosing\\ncontinue\\nto\\nhave\\ncoverage\\nunder\\nall\\nof\\nthe\\nLiability\\nPolicies\\nwith \\nrespect\\nto\\nevents\\noccurring\\nprior\\nto\\nthe\\nClosing.\\nSection\\nII.22\\nNo\\nBrokers\\n.\\nNo\\nAcquired\\nCompany\\nhas\\nany\\nLiability\\nof\\nany\\nkind\\nto,\\nor\\nis \\nsubject\\nto\\nany\\nclaim\\nof,\\nany\\nbroker ,\\nfinder\\nor\\nagent\\nin\\nconnection\\nwith\\nthe\\nContemplated \\nTransactions\\nother\\nthan\\nthose\\nwhich\\nwill\\nbe\\nborne\\nby\\nthe\\nSellers.\\n-\\n50\\n-\\n112923184_5', metadata={'page': 54, 'source': '../data/RaptorContract.pdf'}),\n",
       " Document(page_content='Recitals \\nProposed\\nFinal\\nClosing\\nStatement\\n2.07(c) \\nPurchase\\nPrice\\n2.02 \\nReal\\nProperty\\n3.10(a) \\nReal\\nProperty\\nLeases\\n3.10(a) \\nReleasees\\n6.07(a) \\nReleasing\\nParties\\n6.07(a) \\nRestricted\\nPeriod\\n6.08(a) \\nRestrictive\\nCovenant\\nAgreement\\nRecitals \\nScheduled\\nIntellectual\\nProperty\\nRights\\n3.11(c) \\nSection\\n14\\nArrangement\\n3.19(a) \\nSecurities\\nRecitals\\n-\\n14\\n-\\n112923184_5', metadata={'page': 18, 'source': '../data/RaptorContract.pdf'}),\n",
       " Document(page_content='assurances,\\ndeeds, \\nassignments,\\ntransfers,\\nconveyances\\nand\\nother\\ninstruments\\nand\\npapers\\nas\\nmay\\nbe\\nreasonably \\nrequired\\nor\\nappropriate\\nto\\ncarry\\nout\\nthe\\nContemplated\\nTransactions.\\nSection\\nI.11\\nEmployees\\nand\\nBenefits;\\nRetention\\nPool\\n(a)\\nTo\\nthe\\nextent\\nthat\\nservice\\nis\\nrelevant\\nfor\\npurposes\\nof\\neligibility\\nor\\nvesting\\nunder \\nany\\nemployee\\nbenefit\\nplan,\\nprogram\\nor\\narrangement\\n(other\\nthan\\nany\\ndefined\\nbenefit\\npension \\nplan)\\nestablished\\nor\\nmaintained\\nby\\nBuyer\\nor\\nby\\nthe\\nAcquired\\nCompanies\\nfollowing\\nthe\\nClosing \\nDate\\nfor\\nthe\\nbenefit\\nof\\nthe\\nAcquired\\nCompanies’\\nemployees,\\nsuch\\nplan,\\nprogram\\nor\\narrangement \\nshall\\ncredit,\\nto\\nthe\\nextent\\npermitted,\\nsuch\\nAcquired\\nCompanies’\\nemployees\\nfor\\nservice\\nwith\\nthe \\nAcquired\\nCompanies\\non\\nand\\nprior\\nto\\nthe\\nClosing\\nDate,\\nexcept\\nas\\nwould\\ncause\\na\\nduplication\\nof \\nbenefits\\nor\\ncoverage\\nfor\\nthe\\nsame\\nperiod\\nof\\nservice.\\nIn\\naddition,\\nfor\\nthe\\nplanned\\nyear\\nin\\nwhich \\nthe\\nClosing\\noccurs,\\nwith\\nrespect\\nto\\nany\\ngroup\\nhealth\\nplan\\nestablished\\nor\\nmaintained\\nby\\nBuyer\\nor \\nby\\nthe\\nAcquired', metadata={'page': 61, 'source': '../data/RaptorContract.pdf'})]"
      ]
     },
     "execution_count": 19,
     "metadata": {},
     "output_type": "execute_result"
    }
   ],
   "source": [
    "similarity_search"
   ]
  },
  {
   "cell_type": "markdown",
   "metadata": {},
   "source": [
    "create a retriver and a q&a pipeline"
   ]
  },
  {
   "cell_type": "code",
   "execution_count": 20,
   "metadata": {},
   "outputs": [],
   "source": [
    "retriever = vectorstore.as_retriever()"
   ]
  },
  {
   "cell_type": "code",
   "execution_count": 21,
   "metadata": {},
   "outputs": [
    {
     "name": "stderr",
     "output_type": "stream",
     "text": [
      "/home/kerod/Desktop/week_11/RAG-system-for-Contract-Q-A/week_11/lib/python3.10/site-packages/langchain_core/_api/deprecation.py:117: LangChainDeprecationWarning: The class `langchain_community.chat_models.openai.ChatOpenAI` was deprecated in langchain-community 0.0.10 and will be removed in 0.2.0. An updated version of the class exists in the langchain-openai package and should be used instead. To use it run `pip install -U langchain-openai` and import as `from langchain_openai import ChatOpenAI`.\n",
      "  warn_deprecated(\n"
     ]
    }
   ],
   "source": [
    "llm_model = \"gpt-3.5-turbo\"\n",
    "llm = ChatOpenAI(temperature = 0.0, model=llm_model)"
   ]
  },
  {
   "cell_type": "code",
   "execution_count": 22,
   "metadata": {},
   "outputs": [],
   "source": [
    "from langchain.chains import RetrievalQA\n",
    "qa_stuff = RetrievalQA.from_chain_type(\n",
    "    llm=llm, \n",
    "    chain_type=\"stuff\", \n",
    "    retriever=retriever, \n",
    "    verbose=True\n",
    ")"
   ]
  },
  {
   "cell_type": "code",
   "execution_count": 23,
   "metadata": {},
   "outputs": [],
   "source": [
    "query2 = \"Are there any conditions to the closing?\"\n"
   ]
  },
  {
   "cell_type": "code",
   "execution_count": 24,
   "metadata": {},
   "outputs": [
    {
     "name": "stdout",
     "output_type": "stream",
     "text": [
      "\n",
      "\n",
      "\u001b[1m> Entering new RetrievalQA chain...\u001b[0m\n",
      "\n",
      "\u001b[1m> Finished chain.\u001b[0m\n"
     ]
    },
    {
     "data": {
      "text/plain": [
       "{'query': 'Are there any conditions to the closing?',\n",
       " 'result': 'Yes, there are conditions to the closing as outlined in the Agreement. The consummation of the transactions contemplated by the Agreement shall occur at 12:01 a.m. Pacific Standard Time on the Closing Date. Additionally, there are specific payments that need to be made at the Closing, such as the Closing Cash Consideration, Warrant Closing Cash Consideration, and Closing Vested Options Cash Consideration. Furthermore, there are assurances, deeds, assignments, transfers, conveyances, and other instruments and papers that may be required to carry out the Contemplated Transactions.'}"
      ]
     },
     "execution_count": 24,
     "metadata": {},
     "output_type": "execute_result"
    }
   ],
   "source": [
    "qa_stuff.invoke(query2)"
   ]
  },
  {
   "cell_type": "code",
   "execution_count": 27,
   "metadata": {},
   "outputs": [],
   "source": [
    "langchain.debug = True"
   ]
  },
  {
   "cell_type": "code",
   "execution_count": 28,
   "metadata": {},
   "outputs": [
    {
     "name": "stdout",
     "output_type": "stream",
     "text": [
      "\u001b[32;1m\u001b[1;3m[chain/start]\u001b[0m \u001b[1m[1:chain:RetrievalQA] Entering Chain run with input:\n",
      "\u001b[0m{\n",
      "  \"query\": \"Are there any conditions to the closing?\"\n",
      "}\n",
      "\u001b[32;1m\u001b[1;3m[chain/start]\u001b[0m \u001b[1m[1:chain:RetrievalQA > 3:chain:StuffDocumentsChain] Entering Chain run with input:\n",
      "\u001b[0m[inputs]\n",
      "\u001b[32;1m\u001b[1;3m[chain/start]\u001b[0m \u001b[1m[1:chain:RetrievalQA > 3:chain:StuffDocumentsChain > 4:chain:LLMChain] Entering Chain run with input:\n",
      "\u001b[0m{\n",
      "  \"question\": \"Are there any conditions to the closing?\",\n",
      "  \"context\": \"adjustments\\ncontemplated\\nin\\nthis\\nAgreement,\\nis \\nreferred\\nto\\nherein\\nas\\nthe\\n“\\nPurchase\\nPrice\\n”.\\nSection\\nII.03\\nThe\\nClosing\\n.\\nThe\\npurchase\\nand\\nsale\\nof\\nthe\\nShares\\n(the\\n“\\nClosing\\n”)\\nshall \\ntake\\nplace\\non\\nthe\\ndate\\nhereof\\n(the\\n“\\nClosing\\nDate\\n”)\\nby\\nexchange\\nof\\ndocuments\\nand\\nsignatures\\n(or \\ntheir\\nelectronic\\ncounterparts).\\nThe\\nconsummation\\nof\\nthe\\ntransactions\\ncontemplated\\nby\\nthis \\nAgreement\\nshall\\nbe\\ndeemed\\nto\\noccur\\nat\\n12:01\\na.m.\\nPacific\\nStandard\\nTime\\non\\nthe\\nClosing\\nDate.\\nSection\\nII.04\\nClosing\\nPayments\\n.\\n(a)\\nAt\\nthe\\nClosing,\\nBuyer\\nshall\\npay,\\nor\\ncause\\nto\\nbe\\npaid,\\nthrough\\npayment\\nto\\nthe \\nPaying\\nAgent\\nwhich\\nwill\\nin\\nturn\\nmake\\nthe\\nfollowing\\npayments,\\nin\\ncash\\nby\\nwire\\ntransfer\\nof \\nimmediately\\navailable\\nfunds\\n–(a)\\nthe\\nClosing\\nCash\\nConsideration\\nto\\nor\\nfor\\nthe\\naccount\\nof\\nSellers, \\n(b)\\nthe\\nWarrant\\nClosing\\nCash\\nConsideration\\nto\\nor\\nfor\\nthe\\naccount\\nof\\nWarrantholders,\\n(c)\\nthe \\nClosing\\nVested\\nOptions\\nCash\\nConsideration\\nto\\nthe\\n[102\\nTrustee]\\nfor\\nthe\\nbenefit\\nof\\nthe\\nVested\\n-\\n16\\n-\\n112923184_5\\n\\ncoverage\\nunder ,\\nany\\nCurrent \\nLiability\\nPolicy .\\nExcept\\nas\\ndisclosed\\non\\nSchedule\\n 3.21\\n,\\nthe\\nAcquired\\nCompanies\\nwill \\nimmediately\\nafter\\nthe\\nClosing\\ncontinue\\nto\\nhave\\ncoverage\\nunder\\nall\\nof\\nthe\\nLiability\\nPolicies\\nwith \\nrespect\\nto\\nevents\\noccurring\\nprior\\nto\\nthe\\nClosing.\\nSection\\nII.22\\nNo\\nBrokers\\n.\\nNo\\nAcquired\\nCompany\\nhas\\nany\\nLiability\\nof\\nany\\nkind\\nto,\\nor\\nis \\nsubject\\nto\\nany\\nclaim\\nof,\\nany\\nbroker ,\\nfinder\\nor\\nagent\\nin\\nconnection\\nwith\\nthe\\nContemplated \\nTransactions\\nother\\nthan\\nthose\\nwhich\\nwill\\nbe\\nborne\\nby\\nthe\\nSellers.\\n-\\n50\\n-\\n112923184_5\\n\\nRecitals \\nProposed\\nFinal\\nClosing\\nStatement\\n2.07(c) \\nPurchase\\nPrice\\n2.02 \\nReal\\nProperty\\n3.10(a) \\nReal\\nProperty\\nLeases\\n3.10(a) \\nReleasees\\n6.07(a) \\nReleasing\\nParties\\n6.07(a) \\nRestricted\\nPeriod\\n6.08(a) \\nRestrictive\\nCovenant\\nAgreement\\nRecitals \\nScheduled\\nIntellectual\\nProperty\\nRights\\n3.11(c) \\nSection\\n14\\nArrangement\\n3.19(a) \\nSecurities\\nRecitals\\n-\\n14\\n-\\n112923184_5\\n\\nassurances,\\ndeeds, \\nassignments,\\ntransfers,\\nconveyances\\nand\\nother\\ninstruments\\nand\\npapers\\nas\\nmay\\nbe\\nreasonably \\nrequired\\nor\\nappropriate\\nto\\ncarry\\nout\\nthe\\nContemplated\\nTransactions.\\nSection\\nI.11\\nEmployees\\nand\\nBenefits;\\nRetention\\nPool\\n(a)\\nTo\\nthe\\nextent\\nthat\\nservice\\nis\\nrelevant\\nfor\\npurposes\\nof\\neligibility\\nor\\nvesting\\nunder \\nany\\nemployee\\nbenefit\\nplan,\\nprogram\\nor\\narrangement\\n(other\\nthan\\nany\\ndefined\\nbenefit\\npension \\nplan)\\nestablished\\nor\\nmaintained\\nby\\nBuyer\\nor\\nby\\nthe\\nAcquired\\nCompanies\\nfollowing\\nthe\\nClosing \\nDate\\nfor\\nthe\\nbenefit\\nof\\nthe\\nAcquired\\nCompanies’\\nemployees,\\nsuch\\nplan,\\nprogram\\nor\\narrangement \\nshall\\ncredit,\\nto\\nthe\\nextent\\npermitted,\\nsuch\\nAcquired\\nCompanies’\\nemployees\\nfor\\nservice\\nwith\\nthe \\nAcquired\\nCompanies\\non\\nand\\nprior\\nto\\nthe\\nClosing\\nDate,\\nexcept\\nas\\nwould\\ncause\\na\\nduplication\\nof \\nbenefits\\nor\\ncoverage\\nfor\\nthe\\nsame\\nperiod\\nof\\nservice.\\nIn\\naddition,\\nfor\\nthe\\nplanned\\nyear\\nin\\nwhich \\nthe\\nClosing\\noccurs,\\nwith\\nrespect\\nto\\nany\\ngroup\\nhealth\\nplan\\nestablished\\nor\\nmaintained\\nby\\nBuyer\\nor \\nby\\nthe\\nAcquired\"\n",
      "}\n",
      "\u001b[32;1m\u001b[1;3m[llm/start]\u001b[0m \u001b[1m[1:chain:RetrievalQA > 3:chain:StuffDocumentsChain > 4:chain:LLMChain > 5:llm:ChatOpenAI] Entering LLM run with input:\n",
      "\u001b[0m{\n",
      "  \"prompts\": [\n",
      "    \"System: Use the following pieces of context to answer the user's question. \\nIf you don't know the answer, just say that you don't know, don't try to make up an answer.\\n----------------\\nadjustments\\ncontemplated\\nin\\nthis\\nAgreement,\\nis \\nreferred\\nto\\nherein\\nas\\nthe\\n“\\nPurchase\\nPrice\\n”.\\nSection\\nII.03\\nThe\\nClosing\\n.\\nThe\\npurchase\\nand\\nsale\\nof\\nthe\\nShares\\n(the\\n“\\nClosing\\n”)\\nshall \\ntake\\nplace\\non\\nthe\\ndate\\nhereof\\n(the\\n“\\nClosing\\nDate\\n”)\\nby\\nexchange\\nof\\ndocuments\\nand\\nsignatures\\n(or \\ntheir\\nelectronic\\ncounterparts).\\nThe\\nconsummation\\nof\\nthe\\ntransactions\\ncontemplated\\nby\\nthis \\nAgreement\\nshall\\nbe\\ndeemed\\nto\\noccur\\nat\\n12:01\\na.m.\\nPacific\\nStandard\\nTime\\non\\nthe\\nClosing\\nDate.\\nSection\\nII.04\\nClosing\\nPayments\\n.\\n(a)\\nAt\\nthe\\nClosing,\\nBuyer\\nshall\\npay,\\nor\\ncause\\nto\\nbe\\npaid,\\nthrough\\npayment\\nto\\nthe \\nPaying\\nAgent\\nwhich\\nwill\\nin\\nturn\\nmake\\nthe\\nfollowing\\npayments,\\nin\\ncash\\nby\\nwire\\ntransfer\\nof \\nimmediately\\navailable\\nfunds\\n–(a)\\nthe\\nClosing\\nCash\\nConsideration\\nto\\nor\\nfor\\nthe\\naccount\\nof\\nSellers, \\n(b)\\nthe\\nWarrant\\nClosing\\nCash\\nConsideration\\nto\\nor\\nfor\\nthe\\naccount\\nof\\nWarrantholders,\\n(c)\\nthe \\nClosing\\nVested\\nOptions\\nCash\\nConsideration\\nto\\nthe\\n[102\\nTrustee]\\nfor\\nthe\\nbenefit\\nof\\nthe\\nVested\\n-\\n16\\n-\\n112923184_5\\n\\ncoverage\\nunder ,\\nany\\nCurrent \\nLiability\\nPolicy .\\nExcept\\nas\\ndisclosed\\non\\nSchedule\\n 3.21\\n,\\nthe\\nAcquired\\nCompanies\\nwill \\nimmediately\\nafter\\nthe\\nClosing\\ncontinue\\nto\\nhave\\ncoverage\\nunder\\nall\\nof\\nthe\\nLiability\\nPolicies\\nwith \\nrespect\\nto\\nevents\\noccurring\\nprior\\nto\\nthe\\nClosing.\\nSection\\nII.22\\nNo\\nBrokers\\n.\\nNo\\nAcquired\\nCompany\\nhas\\nany\\nLiability\\nof\\nany\\nkind\\nto,\\nor\\nis \\nsubject\\nto\\nany\\nclaim\\nof,\\nany\\nbroker ,\\nfinder\\nor\\nagent\\nin\\nconnection\\nwith\\nthe\\nContemplated \\nTransactions\\nother\\nthan\\nthose\\nwhich\\nwill\\nbe\\nborne\\nby\\nthe\\nSellers.\\n-\\n50\\n-\\n112923184_5\\n\\nRecitals \\nProposed\\nFinal\\nClosing\\nStatement\\n2.07(c) \\nPurchase\\nPrice\\n2.02 \\nReal\\nProperty\\n3.10(a) \\nReal\\nProperty\\nLeases\\n3.10(a) \\nReleasees\\n6.07(a) \\nReleasing\\nParties\\n6.07(a) \\nRestricted\\nPeriod\\n6.08(a) \\nRestrictive\\nCovenant\\nAgreement\\nRecitals \\nScheduled\\nIntellectual\\nProperty\\nRights\\n3.11(c) \\nSection\\n14\\nArrangement\\n3.19(a) \\nSecurities\\nRecitals\\n-\\n14\\n-\\n112923184_5\\n\\nassurances,\\ndeeds, \\nassignments,\\ntransfers,\\nconveyances\\nand\\nother\\ninstruments\\nand\\npapers\\nas\\nmay\\nbe\\nreasonably \\nrequired\\nor\\nappropriate\\nto\\ncarry\\nout\\nthe\\nContemplated\\nTransactions.\\nSection\\nI.11\\nEmployees\\nand\\nBenefits;\\nRetention\\nPool\\n(a)\\nTo\\nthe\\nextent\\nthat\\nservice\\nis\\nrelevant\\nfor\\npurposes\\nof\\neligibility\\nor\\nvesting\\nunder \\nany\\nemployee\\nbenefit\\nplan,\\nprogram\\nor\\narrangement\\n(other\\nthan\\nany\\ndefined\\nbenefit\\npension \\nplan)\\nestablished\\nor\\nmaintained\\nby\\nBuyer\\nor\\nby\\nthe\\nAcquired\\nCompanies\\nfollowing\\nthe\\nClosing \\nDate\\nfor\\nthe\\nbenefit\\nof\\nthe\\nAcquired\\nCompanies’\\nemployees,\\nsuch\\nplan,\\nprogram\\nor\\narrangement \\nshall\\ncredit,\\nto\\nthe\\nextent\\npermitted,\\nsuch\\nAcquired\\nCompanies’\\nemployees\\nfor\\nservice\\nwith\\nthe \\nAcquired\\nCompanies\\non\\nand\\nprior\\nto\\nthe\\nClosing\\nDate,\\nexcept\\nas\\nwould\\ncause\\na\\nduplication\\nof \\nbenefits\\nor\\ncoverage\\nfor\\nthe\\nsame\\nperiod\\nof\\nservice.\\nIn\\naddition,\\nfor\\nthe\\nplanned\\nyear\\nin\\nwhich \\nthe\\nClosing\\noccurs,\\nwith\\nrespect\\nto\\nany\\ngroup\\nhealth\\nplan\\nestablished\\nor\\nmaintained\\nby\\nBuyer\\nor \\nby\\nthe\\nAcquired\\nHuman: Are there any conditions to the closing?\"\n",
      "  ]\n",
      "}\n",
      "\u001b[36;1m\u001b[1;3m[llm/end]\u001b[0m \u001b[1m[1:chain:RetrievalQA > 3:chain:StuffDocumentsChain > 4:chain:LLMChain > 5:llm:ChatOpenAI] [2.40s] Exiting LLM run with output:\n",
      "\u001b[0m{\n",
      "  \"generations\": [\n",
      "    [\n",
      "      {\n",
      "        \"text\": \"Yes, there are conditions to the closing as outlined in the agreement. The closing involves the exchange of documents and signatures (or electronic counterparts) on the Closing Date. Additionally, there are specific payments to be made at the Closing, such as the Closing Cash Consideration, Warrant Closing Cash Consideration, and Closing Vested Options Cash Consideration. The agreement also mentions the need for certain assurances, deeds, assignments, transfers, conveyances, and other instruments to carry out the Contemplated Transactions.\",\n",
      "        \"generation_info\": {\n",
      "          \"finish_reason\": \"stop\",\n",
      "          \"logprobs\": null\n",
      "        },\n",
      "        \"type\": \"ChatGeneration\",\n",
      "        \"message\": {\n",
      "          \"lc\": 1,\n",
      "          \"type\": \"constructor\",\n",
      "          \"id\": [\n",
      "            \"langchain\",\n",
      "            \"schema\",\n",
      "            \"messages\",\n",
      "            \"AIMessage\"\n",
      "          ],\n",
      "          \"kwargs\": {\n",
      "            \"content\": \"Yes, there are conditions to the closing as outlined in the agreement. The closing involves the exchange of documents and signatures (or electronic counterparts) on the Closing Date. Additionally, there are specific payments to be made at the Closing, such as the Closing Cash Consideration, Warrant Closing Cash Consideration, and Closing Vested Options Cash Consideration. The agreement also mentions the need for certain assurances, deeds, assignments, transfers, conveyances, and other instruments to carry out the Contemplated Transactions.\",\n",
      "            \"additional_kwargs\": {}\n",
      "          }\n",
      "        }\n",
      "      }\n",
      "    ]\n",
      "  ],\n",
      "  \"llm_output\": {\n",
      "    \"token_usage\": {\n",
      "      \"prompt_tokens\": 1102,\n",
      "      \"completion_tokens\": 101,\n",
      "      \"total_tokens\": 1203\n",
      "    },\n",
      "    \"model_name\": \"gpt-3.5-turbo\",\n",
      "    \"system_fingerprint\": \"fp_cbdb91ce3f\"\n",
      "  },\n",
      "  \"run\": null\n",
      "}\n",
      "\u001b[36;1m\u001b[1;3m[chain/end]\u001b[0m \u001b[1m[1:chain:RetrievalQA > 3:chain:StuffDocumentsChain > 4:chain:LLMChain] [2.40s] Exiting Chain run with output:\n",
      "\u001b[0m{\n",
      "  \"text\": \"Yes, there are conditions to the closing as outlined in the agreement. The closing involves the exchange of documents and signatures (or electronic counterparts) on the Closing Date. Additionally, there are specific payments to be made at the Closing, such as the Closing Cash Consideration, Warrant Closing Cash Consideration, and Closing Vested Options Cash Consideration. The agreement also mentions the need for certain assurances, deeds, assignments, transfers, conveyances, and other instruments to carry out the Contemplated Transactions.\"\n",
      "}\n",
      "\u001b[36;1m\u001b[1;3m[chain/end]\u001b[0m \u001b[1m[1:chain:RetrievalQA > 3:chain:StuffDocumentsChain] [2.41s] Exiting Chain run with output:\n",
      "\u001b[0m{\n",
      "  \"output_text\": \"Yes, there are conditions to the closing as outlined in the agreement. The closing involves the exchange of documents and signatures (or electronic counterparts) on the Closing Date. Additionally, there are specific payments to be made at the Closing, such as the Closing Cash Consideration, Warrant Closing Cash Consideration, and Closing Vested Options Cash Consideration. The agreement also mentions the need for certain assurances, deeds, assignments, transfers, conveyances, and other instruments to carry out the Contemplated Transactions.\"\n",
      "}\n",
      "\u001b[36;1m\u001b[1;3m[chain/end]\u001b[0m \u001b[1m[1:chain:RetrievalQA] [5.50s] Exiting Chain run with output:\n",
      "\u001b[0m{\n",
      "  \"result\": \"Yes, there are conditions to the closing as outlined in the agreement. The closing involves the exchange of documents and signatures (or electronic counterparts) on the Closing Date. Additionally, there are specific payments to be made at the Closing, such as the Closing Cash Consideration, Warrant Closing Cash Consideration, and Closing Vested Options Cash Consideration. The agreement also mentions the need for certain assurances, deeds, assignments, transfers, conveyances, and other instruments to carry out the Contemplated Transactions.\"\n",
      "}\n"
     ]
    },
    {
     "data": {
      "text/plain": [
       "{'query': 'Are there any conditions to the closing?',\n",
       " 'result': 'Yes, there are conditions to the closing as outlined in the agreement. The closing involves the exchange of documents and signatures (or electronic counterparts) on the Closing Date. Additionally, there are specific payments to be made at the Closing, such as the Closing Cash Consideration, Warrant Closing Cash Consideration, and Closing Vested Options Cash Consideration. The agreement also mentions the need for certain assurances, deeds, assignments, transfers, conveyances, and other instruments to carry out the Contemplated Transactions.'}"
      ]
     },
     "execution_count": 28,
     "metadata": {},
     "output_type": "execute_result"
    }
   ],
   "source": [
    "qa_stuff.invoke(query)"
   ]
  },
  {
   "cell_type": "code",
   "execution_count": 29,
   "metadata": {},
   "outputs": [
    {
     "name": "stdout",
     "output_type": "stream",
     "text": [
      "\u001b[32;1m\u001b[1;3m[chain/start]\u001b[0m \u001b[1m[1:chain:RetrievalQA] Entering Chain run with input:\n",
      "\u001b[0m{\n",
      "  \"query\": \"How much is the escrow amount?\"\n",
      "}\n",
      "\u001b[32;1m\u001b[1;3m[chain/start]\u001b[0m \u001b[1m[1:chain:RetrievalQA > 3:chain:StuffDocumentsChain] Entering Chain run with input:\n",
      "\u001b[0m[inputs]\n",
      "\u001b[32;1m\u001b[1;3m[chain/start]\u001b[0m \u001b[1m[1:chain:RetrievalQA > 3:chain:StuffDocumentsChain > 4:chain:LLMChain] Entering Chain run with input:\n",
      "\u001b[0m{\n",
      "  \"question\": \"How much is the escrow amount?\",\n",
      "  \"context\": \"with\\nthe\\nEscrow\\nAgreement.\\nThe\\nEscrow\\nAmount\\nshall\\nbe\\nheld\\nand, \\nsubject\\nto\\nSection\\n2.07,\\nreleased\\nto\\nthe\\nCompany\\nSecurityholders\\nin\\naccordance\\nwith\\nthe \\nprovisions\\nof\\nthe\\nEscrow\\nAgreement\\nwith\\nthe\\nCompany\\nSecurityholders\\nbeing\\nentitled\\nto\\nshare\\nin \\nsuch\\nreleased\\namounts\\nin\\naccordance\\nwith\\ntheir\\nPro\\nRata\\nPercentages.\\nFrom\\nand\\nafter\\nthe \\nClosing,\\nBuyer\\nand\\nthe\\nSellers’\\nRepresentative\\nwill\\ndirect\\nthe\\nEscrow\\nAgent\\nto\\ndisburse \\npayments\\nfrom\\nthe\\nEscrow\\nAccount\\nin\\naccordance\\nwith\\nthe\\npurchase\\nprice\\nadjustment\\nprovisions \\nof\\nthis\\nAgreement\\nand\\nthe\\nterms\\nof\\nthe\\nEscrow\\nAgreement\\nincluding:\\n(a)\\nin\\nthe\\ncase\\nof\\nany \\ndisbursement\\nthat\\nis\\nrequired\\nby\\nthe\\nterms\\nof\\nthis\\nAgreement\\nand\\nas\\nto\\nwhich\\nthere\\nis\\nno\\ndispute \\n(or\\nas\\nto\\nwhich\\nthe\\ndisputing\\nparty\\nhas\\nfailed\\nto\\nnotify\\nthe\\nEscrow\\nAgent\\nand\\nthe\\nother\\nparties\\nof \\nits\\ndispute\\nin\\naccordance\\nwith\\nany\\napplicable\\nrequirements\\nunder\\nthis\\nAgreement\\nand\\nthe\\nEscrow \\nAgreement),\\nthey\\nwill\\nprovide\\nprompt\\njoint\\npayment\\ninstructions\\ndirecting\\nthe\\nEscrow\\nAgent\\n\\nSecurityholder\\nby\\nwire\\ntransfer\\nof\\nimmediately\\navailable\\nfunds\\nits\\nPro\\nRata\\nPercentage \\nof\\nthe\\namount,\\nif\\nany,\\nby\\nwhich\\nsuch\\nre-calculated\\nfinal\\nPurchase\\nPrice\\nexceeds\\nthe\\nestimated \\nPurchase\\nPrice\\npaid\\nat\\nClosing\\nin\\naccordance\\nwith\\nSection 2.05(a)(i)\\nand\\nSection\\n2.07(a)\\nand\\nthe \\nEscrow\\nAgent\\nshall\\nrelease\\nthe\\nEscrow\\nAmount\\nto\\nCompany\\nSecurityholders\\nin\\naccordance\\nwith \\nthe\\nEscrow\\nAgreement\\nor\\n(ii)\\nthe\\namount,\\nif\\nany,\\nby\\nwhich\\nsuch\\nestimated\\nPurchase\\nPrice\\npaid\\nat \\nClosing\\nin\\naccordance\\nwith\\nSection 2.05(a)(i)\\nand\\nSection\\n2.07(a)\\nexceeds\\nsuch\\nre-calculated \\nfinal\\nPurchase\\nPrice\\nshall\\nbe\\npaid\\nto\\nthe\\nBuyer ,\\nor\\nits\\ndesignee,\\nin\\naccordance\\nwith\\nthe\\nterms\\nof \\nthe\\nEscrow\\nAgreement\\n(and\\nany\\nremaining\\nbalance\\nof\\nthe\\nEscrow\\nAmount\\nnot\\nrequired\\nto\\nbe \\npaid\\nto\\nthe\\nBuyer\\nshall\\nbe\\nreleased\\nto\\nCompany\\nSecurityholders\\nin\\naccordance\\nwith\\nthe\\nterms\\nof \\nthe\\nEscrow\\nAgreement).\\nSection\\nI.04\\nEscrow\\n.\\n(a)\\nAt\\nClosing,\\nBuyer\\nwill\\ndeposit\\nthe\\nEscrow\\nAmount\\nin\\nescrow\\non\\nbehalf\\nof\\nthe \\nSellers\\nin\\naccordance\\n\\ngoverned \\nby\\nthe\\nterms\\nof\\nthe\\nEscrow\\nAgreement.\\nAll\\nfunds\\ncontained\\nin\\nthe\\nEscrow\\nAccount\\nshall\\nbe\\nheld \\nin\\nescrow\\nand\\nshall\\nbe\\navailable\\nsolely\\nfor\\nthe\\npurpose\\nof\\nsatisfying\\nobligations\\nof\\nthe\\nCompany \\nSecurityholders,\\nif\\nany,\\nas\\nprovided\\nin\\nSection\\n2.07(f)\\n.\\nSection\\nII.05\\nClosing\\nDeliveries\\n.\\n(a)\\nBuyer\\nClosing\\nDeliveries\\n.\\nUpon\\nthe\\nterms\\nand\\nsubject\\nto\\nthe\\nconditions\\nset\\nforth \\nin\\nthis\\nAgreement,\\nthe\\nBuyer\\nshall\\ndeliver\\nor\\ncause\\nto\\nbe\\ndelivered\\nat\\nthe\\nClosing\\nthe\\nfollowing:\\n(i)\\npay\\nor\\ncause\\nto\\nbe\\npaid\\nthe\\nClosing\\nCash\\nAmounts\\nas\\nset\\nforth\\nabove,\\neach \\npayment\\nby\\nwire\\ntransfer\\nof\\nimmediately\\navailable\\nfunds\\ndenominated\\nin\\nU.S.\\ndollars\\nto\\nan \\naccount\\nor\\naccounts\\nspecified\\non\\nthe\\nAllocation\\nStatement;\\n(ii)\\nto\\nthe\\nSellers’\\nRepresentative,\\nthe\\nEmployment\\nAgreements\\nand\\nany\\nother \\nAncillary\\nAgreements\\nto\\nbe\\nentered\\ninto\\nby\\nBuyer\\nor\\nParent\\nat\\nClosing,\\nexecuted\\nby\\nBuyer\\nor \\nParent\\n(as\\napplicable);\\n(iii)\\nto\\nthe\\nEscrow\\nAgent,\\nby\\nwire\\ntransfer\\nof\\nimmediately\\navailable\\nfunds,\\nthe\\nEscrow\\n\\nOptionholders,\\nand\\n(d)\\nthe\\nEmployee\\nClosing\\nBonus\\nAmount\\n[to\\nthe\\nCompany]\\nfor\\nthe\\nbenefit\\nof \\nthe\\nEmployee\\nClosing\\nBonus\\nBeneficiaries\\n(the\\npayments\\nset\\nforth\\nin\\n(a)\\nthrough\\n(d),\\nthe \\n“\\nClosing\\nCash\\nAmounts\\n”).\\nExhibit\\n2.04\\nattached\\nhereto\\nis\\na\\nstatement\\n(the\\n“\\nEstimated\\nClosing \\nStatement\\n”)\\nsetting\\nforth\\n(i)\\nthe\\nSellers’\\nRepresentative’ s\\ngood\\nfaith\\nestimate\\n(together\\nwith \\nreasonable\\ndetail)\\nof\\nthe\\nClosing\\nCash\\nAmounts,\\n(ii)\\na\\nlist\\nof\\nall\\npayees\\nto\\nwhom\\nany\\nportion\\nof \\nthe\\nClosing\\nDebt\\nAmount\\nis\\npayable,\\n(iii)\\na\\nlist\\nof\\nall\\npayees\\nto\\nwhom\\nany\\nportion\\nof\\nthe\\nSeller \\nTransaction\\nExpenses\\nis\\npayable,\\n(iv)\\na\\nschedule\\nof\\nthe\\npayees\\nand\\naccounts\\n(including\\npayment \\ninstructions)\\nto\\nwhich\\neach\\nof\\nthe\\nforegoing\\npayments\\nis\\nto\\nbe\\npaid\\nand\\n(v)\\neach\\nCompany \\nSecurityholder ’s\\nPro\\nRata\\nPercentage\\n(the\\n“\\nAllocation\\nStatement\\n”).\\n6\\n(b)\\nAt\\nthe\\nClosing,\\nBuyer\\nshall\\ndeposit\\nthe\\nEscrow\\nAmount\\nwith\\nthe\\nEscrow\\nAgent\\nto \\nbe\\nheld\\nin\\na\\nseparate\\naccount\\n(the\\n“\\nEscrow\\nAccount\\n”).\\nThe\\nEscrow\\nAccount\\nshall\\nbe\"\n",
      "}\n",
      "\u001b[32;1m\u001b[1;3m[llm/start]\u001b[0m \u001b[1m[1:chain:RetrievalQA > 3:chain:StuffDocumentsChain > 4:chain:LLMChain > 5:llm:ChatOpenAI] Entering LLM run with input:\n",
      "\u001b[0m{\n",
      "  \"prompts\": [\n",
      "    \"System: Use the following pieces of context to answer the user's question. \\nIf you don't know the answer, just say that you don't know, don't try to make up an answer.\\n----------------\\nwith\\nthe\\nEscrow\\nAgreement.\\nThe\\nEscrow\\nAmount\\nshall\\nbe\\nheld\\nand, \\nsubject\\nto\\nSection\\n2.07,\\nreleased\\nto\\nthe\\nCompany\\nSecurityholders\\nin\\naccordance\\nwith\\nthe \\nprovisions\\nof\\nthe\\nEscrow\\nAgreement\\nwith\\nthe\\nCompany\\nSecurityholders\\nbeing\\nentitled\\nto\\nshare\\nin \\nsuch\\nreleased\\namounts\\nin\\naccordance\\nwith\\ntheir\\nPro\\nRata\\nPercentages.\\nFrom\\nand\\nafter\\nthe \\nClosing,\\nBuyer\\nand\\nthe\\nSellers’\\nRepresentative\\nwill\\ndirect\\nthe\\nEscrow\\nAgent\\nto\\ndisburse \\npayments\\nfrom\\nthe\\nEscrow\\nAccount\\nin\\naccordance\\nwith\\nthe\\npurchase\\nprice\\nadjustment\\nprovisions \\nof\\nthis\\nAgreement\\nand\\nthe\\nterms\\nof\\nthe\\nEscrow\\nAgreement\\nincluding:\\n(a)\\nin\\nthe\\ncase\\nof\\nany \\ndisbursement\\nthat\\nis\\nrequired\\nby\\nthe\\nterms\\nof\\nthis\\nAgreement\\nand\\nas\\nto\\nwhich\\nthere\\nis\\nno\\ndispute \\n(or\\nas\\nto\\nwhich\\nthe\\ndisputing\\nparty\\nhas\\nfailed\\nto\\nnotify\\nthe\\nEscrow\\nAgent\\nand\\nthe\\nother\\nparties\\nof \\nits\\ndispute\\nin\\naccordance\\nwith\\nany\\napplicable\\nrequirements\\nunder\\nthis\\nAgreement\\nand\\nthe\\nEscrow \\nAgreement),\\nthey\\nwill\\nprovide\\nprompt\\njoint\\npayment\\ninstructions\\ndirecting\\nthe\\nEscrow\\nAgent\\n\\nSecurityholder\\nby\\nwire\\ntransfer\\nof\\nimmediately\\navailable\\nfunds\\nits\\nPro\\nRata\\nPercentage \\nof\\nthe\\namount,\\nif\\nany,\\nby\\nwhich\\nsuch\\nre-calculated\\nfinal\\nPurchase\\nPrice\\nexceeds\\nthe\\nestimated \\nPurchase\\nPrice\\npaid\\nat\\nClosing\\nin\\naccordance\\nwith\\nSection 2.05(a)(i)\\nand\\nSection\\n2.07(a)\\nand\\nthe \\nEscrow\\nAgent\\nshall\\nrelease\\nthe\\nEscrow\\nAmount\\nto\\nCompany\\nSecurityholders\\nin\\naccordance\\nwith \\nthe\\nEscrow\\nAgreement\\nor\\n(ii)\\nthe\\namount,\\nif\\nany,\\nby\\nwhich\\nsuch\\nestimated\\nPurchase\\nPrice\\npaid\\nat \\nClosing\\nin\\naccordance\\nwith\\nSection 2.05(a)(i)\\nand\\nSection\\n2.07(a)\\nexceeds\\nsuch\\nre-calculated \\nfinal\\nPurchase\\nPrice\\nshall\\nbe\\npaid\\nto\\nthe\\nBuyer ,\\nor\\nits\\ndesignee,\\nin\\naccordance\\nwith\\nthe\\nterms\\nof \\nthe\\nEscrow\\nAgreement\\n(and\\nany\\nremaining\\nbalance\\nof\\nthe\\nEscrow\\nAmount\\nnot\\nrequired\\nto\\nbe \\npaid\\nto\\nthe\\nBuyer\\nshall\\nbe\\nreleased\\nto\\nCompany\\nSecurityholders\\nin\\naccordance\\nwith\\nthe\\nterms\\nof \\nthe\\nEscrow\\nAgreement).\\nSection\\nI.04\\nEscrow\\n.\\n(a)\\nAt\\nClosing,\\nBuyer\\nwill\\ndeposit\\nthe\\nEscrow\\nAmount\\nin\\nescrow\\non\\nbehalf\\nof\\nthe \\nSellers\\nin\\naccordance\\n\\ngoverned \\nby\\nthe\\nterms\\nof\\nthe\\nEscrow\\nAgreement.\\nAll\\nfunds\\ncontained\\nin\\nthe\\nEscrow\\nAccount\\nshall\\nbe\\nheld \\nin\\nescrow\\nand\\nshall\\nbe\\navailable\\nsolely\\nfor\\nthe\\npurpose\\nof\\nsatisfying\\nobligations\\nof\\nthe\\nCompany \\nSecurityholders,\\nif\\nany,\\nas\\nprovided\\nin\\nSection\\n2.07(f)\\n.\\nSection\\nII.05\\nClosing\\nDeliveries\\n.\\n(a)\\nBuyer\\nClosing\\nDeliveries\\n.\\nUpon\\nthe\\nterms\\nand\\nsubject\\nto\\nthe\\nconditions\\nset\\nforth \\nin\\nthis\\nAgreement,\\nthe\\nBuyer\\nshall\\ndeliver\\nor\\ncause\\nto\\nbe\\ndelivered\\nat\\nthe\\nClosing\\nthe\\nfollowing:\\n(i)\\npay\\nor\\ncause\\nto\\nbe\\npaid\\nthe\\nClosing\\nCash\\nAmounts\\nas\\nset\\nforth\\nabove,\\neach \\npayment\\nby\\nwire\\ntransfer\\nof\\nimmediately\\navailable\\nfunds\\ndenominated\\nin\\nU.S.\\ndollars\\nto\\nan \\naccount\\nor\\naccounts\\nspecified\\non\\nthe\\nAllocation\\nStatement;\\n(ii)\\nto\\nthe\\nSellers’\\nRepresentative,\\nthe\\nEmployment\\nAgreements\\nand\\nany\\nother \\nAncillary\\nAgreements\\nto\\nbe\\nentered\\ninto\\nby\\nBuyer\\nor\\nParent\\nat\\nClosing,\\nexecuted\\nby\\nBuyer\\nor \\nParent\\n(as\\napplicable);\\n(iii)\\nto\\nthe\\nEscrow\\nAgent,\\nby\\nwire\\ntransfer\\nof\\nimmediately\\navailable\\nfunds,\\nthe\\nEscrow\\n\\nOptionholders,\\nand\\n(d)\\nthe\\nEmployee\\nClosing\\nBonus\\nAmount\\n[to\\nthe\\nCompany]\\nfor\\nthe\\nbenefit\\nof \\nthe\\nEmployee\\nClosing\\nBonus\\nBeneficiaries\\n(the\\npayments\\nset\\nforth\\nin\\n(a)\\nthrough\\n(d),\\nthe \\n“\\nClosing\\nCash\\nAmounts\\n”).\\nExhibit\\n2.04\\nattached\\nhereto\\nis\\na\\nstatement\\n(the\\n“\\nEstimated\\nClosing \\nStatement\\n”)\\nsetting\\nforth\\n(i)\\nthe\\nSellers’\\nRepresentative’ s\\ngood\\nfaith\\nestimate\\n(together\\nwith \\nreasonable\\ndetail)\\nof\\nthe\\nClosing\\nCash\\nAmounts,\\n(ii)\\na\\nlist\\nof\\nall\\npayees\\nto\\nwhom\\nany\\nportion\\nof \\nthe\\nClosing\\nDebt\\nAmount\\nis\\npayable,\\n(iii)\\na\\nlist\\nof\\nall\\npayees\\nto\\nwhom\\nany\\nportion\\nof\\nthe\\nSeller \\nTransaction\\nExpenses\\nis\\npayable,\\n(iv)\\na\\nschedule\\nof\\nthe\\npayees\\nand\\naccounts\\n(including\\npayment \\ninstructions)\\nto\\nwhich\\neach\\nof\\nthe\\nforegoing\\npayments\\nis\\nto\\nbe\\npaid\\nand\\n(v)\\neach\\nCompany \\nSecurityholder ’s\\nPro\\nRata\\nPercentage\\n(the\\n“\\nAllocation\\nStatement\\n”).\\n6\\n(b)\\nAt\\nthe\\nClosing,\\nBuyer\\nshall\\ndeposit\\nthe\\nEscrow\\nAmount\\nwith\\nthe\\nEscrow\\nAgent\\nto \\nbe\\nheld\\nin\\na\\nseparate\\naccount\\n(the\\n“\\nEscrow\\nAccount\\n”).\\nThe\\nEscrow\\nAccount\\nshall\\nbe\\nHuman: How much is the escrow amount?\"\n",
      "  ]\n",
      "}\n",
      "\u001b[36;1m\u001b[1;3m[llm/end]\u001b[0m \u001b[1m[1:chain:RetrievalQA > 3:chain:StuffDocumentsChain > 4:chain:LLMChain > 5:llm:ChatOpenAI] [1.05s] Exiting LLM run with output:\n",
      "\u001b[0m{\n",
      "  \"generations\": [\n",
      "    [\n",
      "      {\n",
      "        \"text\": \"The provided context does not specify a specific amount for the escrow. The escrow amount is determined based on the terms and conditions outlined in the agreement between the parties involved.\",\n",
      "        \"generation_info\": {\n",
      "          \"finish_reason\": \"stop\",\n",
      "          \"logprobs\": null\n",
      "        },\n",
      "        \"type\": \"ChatGeneration\",\n",
      "        \"message\": {\n",
      "          \"lc\": 1,\n",
      "          \"type\": \"constructor\",\n",
      "          \"id\": [\n",
      "            \"langchain\",\n",
      "            \"schema\",\n",
      "            \"messages\",\n",
      "            \"AIMessage\"\n",
      "          ],\n",
      "          \"kwargs\": {\n",
      "            \"content\": \"The provided context does not specify a specific amount for the escrow. The escrow amount is determined based on the terms and conditions outlined in the agreement between the parties involved.\",\n",
      "            \"additional_kwargs\": {}\n",
      "          }\n",
      "        }\n",
      "      }\n",
      "    ]\n",
      "  ],\n",
      "  \"llm_output\": {\n",
      "    \"token_usage\": {\n",
      "      \"prompt_tokens\": 1540,\n",
      "      \"completion_tokens\": 35,\n",
      "      \"total_tokens\": 1575\n",
      "    },\n",
      "    \"model_name\": \"gpt-3.5-turbo\",\n",
      "    \"system_fingerprint\": \"fp_cbdb91ce3f\"\n",
      "  },\n",
      "  \"run\": null\n",
      "}\n",
      "\u001b[36;1m\u001b[1;3m[chain/end]\u001b[0m \u001b[1m[1:chain:RetrievalQA > 3:chain:StuffDocumentsChain > 4:chain:LLMChain] [1.05s] Exiting Chain run with output:\n",
      "\u001b[0m{\n",
      "  \"text\": \"The provided context does not specify a specific amount for the escrow. The escrow amount is determined based on the terms and conditions outlined in the agreement between the parties involved.\"\n",
      "}\n",
      "\u001b[36;1m\u001b[1;3m[chain/end]\u001b[0m \u001b[1m[1:chain:RetrievalQA > 3:chain:StuffDocumentsChain] [1.06s] Exiting Chain run with output:\n",
      "\u001b[0m{\n",
      "  \"output_text\": \"The provided context does not specify a specific amount for the escrow. The escrow amount is determined based on the terms and conditions outlined in the agreement between the parties involved.\"\n",
      "}\n",
      "\u001b[36;1m\u001b[1;3m[chain/end]\u001b[0m \u001b[1m[1:chain:RetrievalQA] [2.04s] Exiting Chain run with output:\n",
      "\u001b[0m{\n",
      "  \"result\": \"The provided context does not specify a specific amount for the escrow. The escrow amount is determined based on the terms and conditions outlined in the agreement between the parties involved.\"\n",
      "}\n"
     ]
    },
    {
     "data": {
      "text/plain": [
       "{'query': 'How much is the escrow amount?',\n",
       " 'result': 'The provided context does not specify a specific amount for the escrow. The escrow amount is determined based on the terms and conditions outlined in the agreement between the parties involved.'}"
      ]
     },
     "execution_count": 29,
     "metadata": {},
     "output_type": "execute_result"
    },
    {
     "name": "stderr",
     "output_type": "stream",
     "text": [
      "{\"action\":\"hnsw_vector_cache_prefill\",\"count\":1000,\"index_id\":\"main\",\"level\":\"info\",\"limit\":1000000000000,\"msg\":\"prefilled vector cache\",\"time\":\"2024-02-23T03:27:47+03:00\",\"took\":413623}\n",
      "{\"level\":\"info\",\"msg\":\"Created shard langchain_a58c905a8d5c4c639ec58a4d16fd34b1_WvxKxRjaQcPs in 17.231375ms\",\"time\":\"2024-02-23T03:27:47+03:00\"}\n"
     ]
    }
   ],
   "source": [
    "query1 = \"How much is the escrow amount?\"\n",
    "qa_stuff.invoke(query1)"
   ]
  }
 ],
 "metadata": {
  "kernelspec": {
   "display_name": "week_11",
   "language": "python",
   "name": "python3"
  },
  "language_info": {
   "codemirror_mode": {
    "name": "ipython",
    "version": 3
   },
   "file_extension": ".py",
   "mimetype": "text/x-python",
   "name": "python",
   "nbconvert_exporter": "python",
   "pygments_lexer": "ipython3",
   "version": "3.10.12"
  }
 },
 "nbformat": 4,
 "nbformat_minor": 2
}
