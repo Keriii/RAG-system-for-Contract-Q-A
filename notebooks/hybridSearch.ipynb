{
 "cells": [
  {
   "cell_type": "code",
   "execution_count": 21,
   "metadata": {},
   "outputs": [],
   "source": [
    "from langchain.text_splitter import CharacterTextSplitter, RecursiveCharacterTextSplitter\n",
    "from langchain.chat_models import ChatOpenAI\n",
    "from langchain.prompts import ChatPromptTemplate\n",
    "from langchain.embeddings import OpenAIEmbeddings\n",
    "from langchain.vectorstores import Weaviate\n",
    "from langchain_openai import ChatOpenAI\n",
    "\n",
    "import weaviate\n",
    "from dotenv import load_dotenv,find_dotenv\n",
    "from weaviate.embedded import EmbeddedOptions\n",
    "from langchain_community.document_loaders import PyPDFLoader\n",
    "\n",
    "from langchain_core.runnables import (\n",
    "    RunnableParallel,\n",
    "    RunnablePassthrough\n",
    ")\n",
    "from langchain.schema.output_parser import StrOutputParser\n",
    "\n",
    "import os\n",
    "import sys\n"
   ]
  },
  {
   "cell_type": "code",
   "execution_count": 22,
   "metadata": {},
   "outputs": [],
   "source": [
    "OPENAI_KEY=os.environ[\"OPENAI_APIKEY\"]\n"
   ]
  },
  {
   "cell_type": "code",
   "execution_count": 2,
   "metadata": {},
   "outputs": [
    {
     "name": "stderr",
     "output_type": "stream",
     "text": [
      "/home/kerod/Desktop/week_11/RAG-system-for-Contract-Q-A/week_11/lib/python3.10/site-packages/tqdm/auto.py:21: TqdmWarning: IProgress not found. Please update jupyter and ipywidgets. See https://ipywidgets.readthedocs.io/en/stable/user_install.html\n",
      "  from .autonotebook import tqdm as notebook_tqdm\n"
     ]
    }
   ],
   "source": [
    "sys.path.append('..')\n",
    "\n",
    "from backend.rag_pipeline import *"
   ]
  },
  {
   "cell_type": "code",
   "execution_count": 3,
   "metadata": {},
   "outputs": [],
   "source": [
    "loader = PyPDFLoader(\"../data/RaptorContract.pdf\")\n",
    "\n",
    "data = data_loader(loader)"
   ]
  },
  {
   "cell_type": "code",
   "execution_count": 4,
   "metadata": {},
   "outputs": [],
   "source": [
    "docs = text_splitter(data)"
   ]
  },
  {
   "cell_type": "code",
   "execution_count": 5,
   "metadata": {},
   "outputs": [
    {
     "name": "stderr",
     "output_type": "stream",
     "text": [
      "/home/kerod/Desktop/week_11/RAG-system-for-Contract-Q-A/week_11/lib/python3.10/site-packages/weaviate/warnings.py:158: DeprecationWarning: Dep016: You are using the Weaviate v3 client, which is deprecated.\n",
      "            Consider upgrading to the new and improved v4 client instead!\n",
      "            See here for usage: https://weaviate.io/developers/weaviate/client-libraries/python\n",
      "            \n",
      "  warnings.warn(\n"
     ]
    },
    {
     "name": "stdout",
     "output_type": "stream",
     "text": [
      "embedded weaviate is already listening on port 8079\n"
     ]
    }
   ],
   "source": [
    "import weaviate\n",
    "\n",
    "client = weaviate.Client(embedded_options=EmbeddedOptions)\n"
   ]
  },
  {
   "cell_type": "code",
   "execution_count": 6,
   "metadata": {},
   "outputs": [],
   "source": [
    "from langchain.retrievers.weaviate_hybrid_search import WeaviateHybridSearchRetriever"
   ]
  },
  {
   "cell_type": "code",
   "execution_count": 7,
   "metadata": {},
   "outputs": [],
   "source": [
    "retriever = WeaviateHybridSearchRetriever(\n",
    "    client=client,\n",
    "    index_name=\"LangChain\",\n",
    "    text_key=\"text\",\n",
    "    attributes=[],\n",
    "    create_schema_if_missing=True,\n",
    ")"
   ]
  },
  {
   "cell_type": "code",
   "execution_count": 9,
   "metadata": {},
   "outputs": [
    {
     "data": {
      "text/plain": [
       "['e88369b3-f9e1-4e10-b74f-0a414edac24d',\n",
       " '5c476050-7b64-4674-979d-456a1f8f1ba1',\n",
       " 'f1819dee-c92a-4673-81ab-0132562241e2',\n",
       " '223a8716-93f9-4070-88cc-979cbe014a58',\n",
       " '3740da07-6618-459c-8c95-1e95a78d6619',\n",
       " '64b45bec-6ba4-4f26-893e-49fbdeb2272a',\n",
       " 'e97f74b5-7d96-485a-80b2-50aa544efc20',\n",
       " '099bd68e-07fb-4d6d-a192-d7b20d41f96e',\n",
       " '43076221-4912-4d19-a26c-f61d010eec62',\n",
       " '18769e20-7c57-4b3b-9502-0ee80bdfd827',\n",
       " 'd51ac875-75c3-4ac1-82fc-fe353721f3ed',\n",
       " '08bf5f6e-f67f-46bb-aa3e-9f6b10b2e783',\n",
       " '5e9b99f3-75b7-4a09-a5b0-bebc3eae869b',\n",
       " '48ebcf42-68e6-4348-beac-44127055a7e9',\n",
       " 'cd3cdb9a-3e75-4b30-b4b2-f69e372810e9',\n",
       " '51f08fa4-071e-4f43-889f-0b8860cb2b29',\n",
       " '0501b6f6-583a-4570-bf0f-fe72de3e783a',\n",
       " '79c7bb5d-0d02-464d-9956-4618cd7869ec',\n",
       " '51870439-bbec-473b-a74e-995d5105c953',\n",
       " '59b1681d-f0d0-4208-97da-327306ef6a31',\n",
       " '11428528-607b-4865-a875-247b863af389',\n",
       " '9007fe87-d23f-40d0-93b2-2e0841aa9caf',\n",
       " 'd161f3a6-9bc4-4d4b-9b29-c63b950daf0d',\n",
       " '8ac47264-016b-43ba-8105-927f7464d1f1',\n",
       " '37ad371f-e168-45ca-b813-68bc48ecb115',\n",
       " '7bb69b11-7b1e-47e2-b0a3-c4825d86a13e',\n",
       " 'e5eea5de-817c-4b75-82f3-b5fcad7f597a',\n",
       " 'f446433e-3d2c-419f-bc1f-d857a653561b',\n",
       " 'ebfbf7ec-be36-40bd-8400-04c70fa80b28',\n",
       " 'f8d49998-fe89-4f59-8e26-cc03cc33c14e',\n",
       " '148782e8-c6b0-49c2-bb4a-8e2bc9b1454a',\n",
       " '72a0e7ca-b43b-47fe-9991-ecb8fb9e9a98',\n",
       " '67204461-bbbe-4375-8d05-95c4d4d43b86',\n",
       " 'ca848df7-8eb3-4c7d-a4ef-63188913682b',\n",
       " '4b99ee37-910c-480f-8268-6c366175bd0d',\n",
       " 'e81b6169-2237-4a1a-bc81-c89784ee664b',\n",
       " 'db9bddbb-7401-4476-a228-8de79fdec834',\n",
       " '76ac62ec-2f23-4c25-bcd5-36c3ea6ccafd',\n",
       " 'd5f4d618-7d9f-4b77-ad6e-bced144eae75',\n",
       " 'ce14cb3f-bf57-4c25-9dae-007852cbda6b',\n",
       " '39022255-5421-4c7b-95da-04d42f10f863',\n",
       " '4377ff51-41c1-4a10-af97-65ef06cc6962',\n",
       " '483da53e-ca04-488e-8079-73f31966acb1',\n",
       " '8ecacd1b-7cca-4b30-8a5b-0e59d9979d76',\n",
       " 'b4b1a395-5a47-444c-aff9-6a8cc557fb3a',\n",
       " 'f0427103-7d43-4d4d-aa15-a4d95890e0e0',\n",
       " '9546786b-8ff0-4063-af4b-1b2a94fc1ec8',\n",
       " 'a1a54947-76b4-43e7-85f3-91322d271505',\n",
       " 'dbfa33fa-3152-44c9-bde3-44d36191d78e',\n",
       " '04f2dcae-ba5d-47f6-ba52-d61e74091a44',\n",
       " 'cd9938dc-b859-4175-bde2-20469cd3cb59',\n",
       " 'a3f15126-e8d9-46bb-9cbb-7a1e3a7cc285',\n",
       " 'ff43230b-bd37-4c3a-b057-16f58a36631f',\n",
       " '280c4db1-2cab-4732-87a2-7b8e31715c7f',\n",
       " 'd3f1a12a-3202-41fa-b571-533e95d88b13',\n",
       " 'aaffed22-5511-4469-bdae-8d5624784501',\n",
       " '3a0bf008-3065-40f3-b2f1-838be3ccd847',\n",
       " 'e43e4f0d-9b77-4395-b71c-923a7efaf8c4',\n",
       " 'aa125f7c-e786-45e8-b9cf-fb993ad88663',\n",
       " '15de75d5-0335-4dff-a7a7-03013ba3cf56',\n",
       " 'b26c94f0-cabf-4771-8511-249af6b30fc1',\n",
       " '6ba0cb22-0df8-4152-a86f-16a0263c01dc',\n",
       " '4776feeb-3e6b-4723-ab54-754ea3f4eed9',\n",
       " 'cf4cfb59-ae51-47dc-88ca-f395e5e3bfa8',\n",
       " 'ecfa0db9-f3d2-4b26-9c53-4f44a9a47f5e',\n",
       " '5dfdb2ed-50a2-479c-87ef-f232a92dcc00',\n",
       " '415d75b9-0cad-41e9-a896-3f7930f3dba1',\n",
       " '09635b50-7404-4e1b-b6cf-1594feee3043',\n",
       " '3922dd2b-fc23-4101-9953-c5ff997720c2',\n",
       " '24a57b65-3014-43e2-b89c-51ea5b9a244e',\n",
       " '37c00262-56b1-47de-b36b-e685a1da2ad9',\n",
       " '9d63f1f1-c84d-48d8-b002-3b8875c676fa',\n",
       " '21a75ac5-4ebc-4afc-b8f9-7c67de153091']"
      ]
     },
     "execution_count": 9,
     "metadata": {},
     "output_type": "execute_result"
    }
   ],
   "source": [
    "retriever.add_documents(docs)"
   ]
  },
  {
   "cell_type": "code",
   "execution_count": 10,
   "metadata": {},
   "outputs": [
    {
     "data": {
      "text/plain": [
       "[Document(page_content='agreed\\nto\\nby\\nthe\\nparties\\nand\\nthe\\ndecision\\nof\\nthe\\nAccounting\\nFirm\\npursuant\\nto\\nthis\\nSection\\n2.07\\nis \\nreferred\\nto\\nherein\\nas\\nthe\\n“\\nFinal\\nClosing\\nStatement\\n”.\\nEach\\nof\\nthe\\nparties\\nto\\nthis\\nAgreement\\nagrees \\nto\\nuse\\nits\\ncommercially\\nreasonable\\nefforts\\nto\\ncooperate\\nwith\\nthe\\nAccounting\\nFirm\\n(including\\nby \\nexecuting\\na\\ncustomary\\nengagement\\nletter\\nreasonably\\nacceptable\\nto\\nit)\\nand\\nto\\ncause\\nthe \\nAccounting\\nFirm\\nto\\nresolve\\nany\\nsuch\\ndispute\\nas\\nsoon\\nas\\npracticable\\nafter\\nthe\\ncommencement\\nof \\nthe\\nAccounting\\nFirm’ s\\nengagement.\\n(e)\\nPurchase\\nPrice\\nAdjustment\\n.\\nIf\\nany\\nof\\nthe\\nClosing\\nCash\\nAmount,\\nthe\\nClosing\\nDebt \\nAmount\\nor\\nthe\\nSeller\\nTransaction\\nExpenses\\n(as\\nfinally\\ndetermined\\npursuant\\nto\\nthis\\nSection\\n2.07 \\nand\\nas\\nset\\nforth\\nin\\nthe\\nFinal\\nClosing\\nStatement)\\ndiffers\\nfrom\\nthe\\nestimated\\namounts\\nthereof\\nset \\nforth\\nin\\nthe\\nEstimated\\nClosing\\nStatement,\\nthe\\nPurchase\\nPrice\\nshall\\nbe\\nrecalculated\\nusing\\nsuch \\nfinal\\nfigures\\nin\\nlieu\\nof\\nsuch\\nestimated\\nfigures,\\nand\\n(i)\\nthe\\nBuyer\\nshall\\npay\\nin\\ncash\\nto\\neach \\nCompany\\nSecurityholder\\nby\\nwire\\ntransfer\\nof\\nimmediately\\navailable\\nfunds\\nits\\nPro\\nRata\\nPercentage \\nof\\nthe\\namount,\\nif\\nany,\\nby\\nwhich\\nsuch\\nre-calculated\\nfinal\\nPurchase\\nPrice\\nexceeds\\nthe\\nestimated \\nPurchase\\nPrice\\npaid\\nat\\nClosing\\nin\\naccordance\\nwith\\nSection 2.05(a)(i)\\nand\\nSection\\n2.07(a)\\nand\\nthe \\nEscrow\\nAgent\\nshall\\nrelease\\nthe\\nEscrow\\nAmount\\nto\\nCompany\\nSecurityholders\\nin\\naccordance\\nwith \\nthe\\nEscrow\\nAgreement\\nor\\n(ii)\\nthe\\namount,\\nif\\nany,\\nby\\nwhich\\nsuch\\nestimated\\nPurchase\\nPrice\\npaid\\nat \\nClosing\\nin\\naccordance\\nwith\\nSection 2.05(a)(i)\\nand\\nSection\\n2.07(a)\\nexceeds\\nsuch\\nre-calculated \\nfinal\\nPurchase\\nPrice\\nshall\\nbe\\npaid\\nto\\nthe\\nBuyer ,\\nor\\nits\\ndesignee,\\nin\\naccordance\\nwith\\nthe\\nterms\\nof \\nthe\\nEscrow\\nAgreement\\n(and\\nany\\nremaining\\nbalance\\nof\\nthe\\nEscrow\\nAmount\\nnot\\nrequired\\nto\\nbe \\npaid\\nto\\nthe\\nBuyer\\nshall\\nbe\\nreleased\\nto\\nCompany\\nSecurityholders\\nin\\naccordance\\nwith\\nthe\\nterms\\nof \\nthe\\nEscrow\\nAgreement).\\nSection\\nI.04\\nEscrow\\n.\\n(a)\\nAt\\nClosing,\\nBuyer\\nwill\\ndeposit\\nthe\\nEscrow\\nAmount\\nin\\nescrow\\non\\nbehalf\\nof\\nthe \\nSellers\\nin\\naccordance\\nwith\\nthe\\nEscrow\\nAgreement.\\nThe\\nEscrow\\nAmount\\nshall\\nbe\\nheld\\nand, \\nsubject\\nto\\nSection\\n2.07,\\nreleased\\nto\\nthe\\nCompany\\nSecurityholders\\nin\\naccordance\\nwith\\nthe \\nprovisions\\nof\\nthe\\nEscrow\\nAgreement\\nwith\\nthe\\nCompany\\nSecurityholders\\nbeing\\nentitled\\nto\\nshare\\nin \\nsuch\\nreleased\\namounts\\nin\\naccordance\\nwith\\ntheir\\nPro\\nRata\\nPercentages.\\nFrom\\nand\\nafter\\nthe \\nClosing,\\nBuyer\\nand\\nthe\\nSellers’\\nRepresentative\\nwill\\ndirect\\nthe\\nEscrow\\nAgent\\nto\\ndisburse \\npayments\\nfrom\\nthe\\nEscrow\\nAccount\\nin\\naccordance\\nwith\\nthe\\npurchase\\nprice\\nadjustment\\nprovisions \\nof\\nthis\\nAgreement\\nand\\nthe\\nterms\\nof\\nthe\\nEscrow\\nAgreement\\nincluding:\\n(a)\\nin\\nthe\\ncase\\nof\\nany \\ndisbursement\\nthat\\nis\\nrequired\\nby\\nthe\\nterms\\nof\\nthis\\nAgreement\\nand\\nas\\nto\\nwhich\\nthere\\nis\\nno\\ndispute \\n(or\\nas\\nto\\nwhich\\nthe\\ndisputing\\nparty\\nhas\\nfailed\\nto\\nnotify\\nthe\\nEscrow\\nAgent\\nand\\nthe\\nother\\nparties\\nof \\nits\\ndispute\\nin\\naccordance\\nwith\\nany\\napplicable\\nrequirements\\nunder\\nthis\\nAgreement\\nand\\nthe\\nEscrow \\nAgreement),\\nthey\\nwill\\nprovide\\nprompt\\njoint\\npayment\\ninstructions\\ndirecting\\nthe\\nEscrow\\nAgent\\nto \\nmake\\nsuch\\ndisbursement\\nand\\n(b)\\nin\\nthe\\ncase\\nof\\na\\ndisbursement\\nas\\nto\\nwhich\\neither\\nthe\\nBuyer\\nor\\nthe \\nSeller ’s\\nRepresentative\\nhas\\nnotified\\nthe\\nother\\nand\\nthe\\nEscrow\\nAgent\\n(in\\naccordance\\nwith\\nany \\nnotice\\nand\\ntiming\\nrequirements\\napplicable\\nunder\\nthis\\nAgreement\\nand\\nthe\\nEscrow\\nAgreement)\\nthat \\nthere\\nis\\na\\ngood\\nfaith\\ndispute,\\nthey\\nwill\\nprovide\\njoint\\npayment\\ninstructions\\nto\\nthe\\nEscrow\\nAgent\\nto \\ndirect\\nthe\\nappropriate\\ndisbursement\\npromptly\\nupon\\nthe\\nresolution,\\nin\\naccordance\\nwith\\nthe \\nprovisions\\nof\\nthis\\nAgreement,\\nof\\nsuch\\ndispute.\\n(b)\\nRecovery\\nfrom\\nthe\\nEscrow\\nAmount\\nshall\\nconstitute\\nthe\\nBuyer ’s\\nexclusive\\nremedy \\nagainst\\nthe\\nCompany\\nSecurityholders\\nin\\nconnection\\nwith\\nany\\nclaim\\nrelating\\nto\\nany\\nadjustments\\nof\\n-\\n21\\n-\\n112923184_5'),\n",
       " Document(page_content='Optionholders,\\nand\\n(d)\\nthe\\nEmployee\\nClosing\\nBonus\\nAmount\\n[to\\nthe\\nCompany]\\nfor\\nthe\\nbenefit\\nof \\nthe\\nEmployee\\nClosing\\nBonus\\nBeneficiaries\\n(the\\npayments\\nset\\nforth\\nin\\n(a)\\nthrough\\n(d),\\nthe \\n“\\nClosing\\nCash\\nAmounts\\n”).\\nExhibit\\n2.04\\nattached\\nhereto\\nis\\na\\nstatement\\n(the\\n“\\nEstimated\\nClosing \\nStatement\\n”)\\nsetting\\nforth\\n(i)\\nthe\\nSellers’\\nRepresentative’ s\\ngood\\nfaith\\nestimate\\n(together\\nwith \\nreasonable\\ndetail)\\nof\\nthe\\nClosing\\nCash\\nAmounts,\\n(ii)\\na\\nlist\\nof\\nall\\npayees\\nto\\nwhom\\nany\\nportion\\nof \\nthe\\nClosing\\nDebt\\nAmount\\nis\\npayable,\\n(iii)\\na\\nlist\\nof\\nall\\npayees\\nto\\nwhom\\nany\\nportion\\nof\\nthe\\nSeller \\nTransaction\\nExpenses\\nis\\npayable,\\n(iv)\\na\\nschedule\\nof\\nthe\\npayees\\nand\\naccounts\\n(including\\npayment \\ninstructions)\\nto\\nwhich\\neach\\nof\\nthe\\nforegoing\\npayments\\nis\\nto\\nbe\\npaid\\nand\\n(v)\\neach\\nCompany \\nSecurityholder ’s\\nPro\\nRata\\nPercentage\\n(the\\n“\\nAllocation\\nStatement\\n”).\\n6\\n(b)\\nAt\\nthe\\nClosing,\\nBuyer\\nshall\\ndeposit\\nthe\\nEscrow\\nAmount\\nwith\\nthe\\nEscrow\\nAgent\\nto \\nbe\\nheld\\nin\\na\\nseparate\\naccount\\n(the\\n“\\nEscrow\\nAccount\\n”).\\nThe\\nEscrow\\nAccount\\nshall\\nbe\\ngoverned \\nby\\nthe\\nterms\\nof\\nthe\\nEscrow\\nAgreement.\\nAll\\nfunds\\ncontained\\nin\\nthe\\nEscrow\\nAccount\\nshall\\nbe\\nheld \\nin\\nescrow\\nand\\nshall\\nbe\\navailable\\nsolely\\nfor\\nthe\\npurpose\\nof\\nsatisfying\\nobligations\\nof\\nthe\\nCompany \\nSecurityholders,\\nif\\nany,\\nas\\nprovided\\nin\\nSection\\n2.07(f)\\n.\\nSection\\nII.05\\nClosing\\nDeliveries\\n.\\n(a)\\nBuyer\\nClosing\\nDeliveries\\n.\\nUpon\\nthe\\nterms\\nand\\nsubject\\nto\\nthe\\nconditions\\nset\\nforth \\nin\\nthis\\nAgreement,\\nthe\\nBuyer\\nshall\\ndeliver\\nor\\ncause\\nto\\nbe\\ndelivered\\nat\\nthe\\nClosing\\nthe\\nfollowing:\\n(i)\\npay\\nor\\ncause\\nto\\nbe\\npaid\\nthe\\nClosing\\nCash\\nAmounts\\nas\\nset\\nforth\\nabove,\\neach \\npayment\\nby\\nwire\\ntransfer\\nof\\nimmediately\\navailable\\nfunds\\ndenominated\\nin\\nU.S.\\ndollars\\nto\\nan \\naccount\\nor\\naccounts\\nspecified\\non\\nthe\\nAllocation\\nStatement;\\n(ii)\\nto\\nthe\\nSellers’\\nRepresentative,\\nthe\\nEmployment\\nAgreements\\nand\\nany\\nother \\nAncillary\\nAgreements\\nto\\nbe\\nentered\\ninto\\nby\\nBuyer\\nor\\nParent\\nat\\nClosing,\\nexecuted\\nby\\nBuyer\\nor \\nParent\\n(as\\napplicable);\\n(iii)\\nto\\nthe\\nEscrow\\nAgent,\\nby\\nwire\\ntransfer\\nof\\nimmediately\\navailable\\nfunds,\\nthe\\nEscrow \\nAmount;\\n(iv)\\nrepay ,\\nor\\ncause\\nto\\nbe\\nrepaid,\\nin\\naccordance\\nwith\\nthe\\npayof f\\nletters\\ndelivered\\nby\\nthe \\nSellers’\\nRepresentative\\npursuant\\nto\\nSection\\n2.05(b)(iv)\\nand\\nthe\\nAllocation\\nStatement,\\non\\nbehalf \\nof\\nthe\\nCompany ,\\nthe\\namounts\\nas\\nset\\nforth\\nin\\nsuch\\npayof f\\nletters;\\n(v)\\npay,\\nor\\ncause\\nto\\nbe\\npaid\\nin\\naccordance\\nwith\\nthe\\nAllocation\\nStatement,\\non\\nbehalf\\nof \\nthe\\nCompany ,\\nthe\\nSeller\\nTransaction\\nExpenses,\\nto\\nthe\\nextent\\nunpaid\\nas\\nof\\nimmediately\\nprior\\nto \\nthe\\nClosing;\\nprovided\\nthat\\nany\\nSeller\\nTransaction\\nExpenses\\nthat\\nare\\ncompensatory\\nand\\npayable\\nto \\nany\\ncurrent\\nor\\nformer\\nemployee\\nof\\nany\\nAcquired\\nCompany\\nwill\\nbe\\npaid\\nto\\nthe\\napplicable \\nAcquired\\nCompany\\nfor\\nfurther\\ndistribution\\nto\\nthe\\napplicable\\nrecipient\\nthrough\\nthe\\napplicable \\nAcquired\\nCompany’ s\\npayroll\\nprovider\\non\\nthe\\nnext\\nregularly\\nscheduled\\npayroll\\ndate\\nthat\\nis\\nat\\nleast \\n(3)\\nBusiness\\nDays\\nfollowing\\nthe\\nClosing\\nDate;\\n6\\nNote\\nto\\nDraft\\n:\\nDraft\\nto\\nbe\\nupdated\\nas\\nnecessary\\nto\\nprovide\\nthat\\nany\\npayments\\nin\\nrespect\\nof\\nshares\\nheld\\nunder \\nSection\\n102\\nbe\\npaid\\nto\\nthe\\nSection\\n102\\nTrustee.\\n-\\n17\\n-\\n112923184_5'),\n",
       " Document(page_content='any\\nSeller .\\nWithout\\nlimiting\\nthe\\ngenerality\\nof\\nthe\\nforegoing,\\nthe\\nSellers’\\nRepresentative\\nis\\nhereby \\nauthorized,\\non\\nbehalf\\nof\\nthe\\nSellers,\\nto:\\n(i)\\nin\\nconnection\\nwith\\nthe\\nClosing,\\nexecute\\nand\\nreceive\\nall\\ndocuments,\\ninstruments, \\ncertificates,\\nstatements\\nand\\nagreements\\non\\nbehalf\\nof\\nand\\nin\\nthe\\nname\\nof\\neach\\nSeller\\nnecessary\\nto \\neffectuate\\nthe\\nClosing\\nand\\nconsummate\\nthe\\nContemplated\\nTransactions;\\n(ii)\\nreceive\\nand\\ngive\\nall\\nnotices\\nand\\nservice\\nof\\nprocess,\\nmake\\nall\\nfilings,\\nenter\\ninto\\nall \\nContractual\\nObligations,\\nmake\\nall\\ndecisions,\\nbring,\\nprosecute,\\ndefend,\\nsettle,\\ncompromise\\nor \\notherwise\\nresolve\\nall\\nclaims,\\ndisputes\\nand\\nActions,\\nauthorize\\npayments\\nin\\nrespect\\nof\\nany\\nsuch \\nclaims,\\ndisputes\\nor\\nActions,\\nand\\ntake\\nall\\nother\\nactions,\\nin\\neach\\ncase,\\nwith\\nrespect\\nto\\nthe\\nmatters \\nset\\nforth\\nin\\nSection\\n2.06\\n,\\nArticle\\nVII\\n,\\nArticle\\nVIII\\nor\\nany\\nother\\nActions\\ndirectly\\nor\\nindirectly \\narising\\nout\\nof\\nor\\nrelating\\nto\\nthis\\nAgreement,\\nthe\\nEscrow\\nAgreement\\nor\\nthe\\nContemplated \\nTransactions;\\n(iii)\\nreceive\\nand\\ngive\\nall\\nnotices,\\nmake\\nall\\ndecisions\\nand\\ntake\\nall\\nother\\nactions\\non \\nbehalf\\nof\\nthe\\nSellers\\nin\\nconnection\\nwith\\nthe\\nescrow\\naccount\\nestablished\\npursuant\\nto\\nthe\\nEscrow \\nAgreement,\\nincluding\\ngiving\\nany\\ninstructions\\nor\\nauthorizations\\nto\\nthe\\nEscrow\\nAgent\\nto\\npay\\nfrom \\nsuch\\nescrow\\naccount\\nany\\namounts\\nowed\\nby\\nthe\\nSellers\\npursuant\\nto\\nthis\\nAgreement\\nor\\nthe\\nEscrow \\nAgreement\\nor\\notherwise\\nin\\nconnection\\nwith\\nthe\\nContemplated\\nTransactions;\\n(iv)\\nexecute\\nand\\ndeliver ,\\nshould\\nit\\nelect\\nto\\ndo\\nso\\nin\\nits\\ngood\\nfaith\\ndiscretion,\\non\\nbehalf \\nof\\nthe\\nSellers,\\nany\\namendment\\nto,\\nor\\nwaiver\\nof,\\nany\\nterm\\nor\\nprovision\\nof\\nthis\\nAgreement\\nor\\nthe \\nEscrow\\nAgreement,\\nor\\nany\\nconsent,\\nacknowledgment\\nor\\nrelease\\nrelating\\nto\\nthis\\nAgreement\\nor\\nthe \\nEscrow\\nAgreement;\\nand\\n(v)\\ntake\\nall\\nother\\nactions\\npermitted\\nor\\nrequired\\nto\\nbe\\ntaken\\nby\\nor\\non\\nbehalf\\nof\\nthe \\nSellers\\nunder\\nthis\\nAgreement\\nor\\nthe\\nEscrow\\nAgreement\\nand\\nexercise\\nany\\nand\\nall\\nrights\\nthat\\nthe \\nSellers\\nor\\nthe\\nSellers’\\nRepresentative\\nare\\npermitted\\nor\\nrequired\\nto\\ndo\\nor\\nexercise\\nunder\\nthis \\nAgreement\\nor\\nthe\\nEscrow\\nAgreement.\\n(d)\\nLiability\\n.\\nThe\\nSellers’\\nRepresentative\\nshall\\nnot\\nbe\\nheld\\nliable\\nby\\nany\\nof\\nthe \\nSellers\\nfor\\nactions\\nor\\nomissions\\nin\\nexercising\\nor\\nfailing\\nto\\nexercise\\nall\\nor\\nany\\nof\\nthe\\npower\\nand \\nauthority\\nof\\nthe\\nSellers’\\nRepresentative\\npursuant\\nto\\nthis\\nAgreement,\\nexcept\\nin\\nthe\\ncase\\nof\\nthe \\nSellers’\\nRepresentative’ s\\ngross\\nnegligence,\\nbad\\nfaith\\nor\\nwillful\\nmisconduct.\\nThe\\nSellers’ \\nRepresentative\\nshall\\nbe\\nentitled\\nto\\nrely\\non\\nthe\\nadvice\\nof\\ncounsel,\\npublic\\naccountants\\nor\\nother \\nindependent\\nexperts\\nthat\\nit\\nreasonably\\ndetermines\\nto\\nbe\\nexperienced\\nin\\nthe\\nmatter\\nat\\nissue,\\nand \\nwill\\nnot\\nbe\\nliable\\nto\\nany\\nSeller\\nfor\\nany\\naction\\ntaken\\nor\\nomitted\\nto\\nbe\\ntaken\\nin\\ngood\\nfaith\\nbased\\non \\nsuch\\nadvice.\\nEach\\nSeller\\nwill\\nseverally\\n(and\\nnot\\njointly)\\nindemnify\\n(in\\naccordance\\nwith\\nits\\nPro \\nRata\\nPercentage)\\nthe\\nSellers’\\nRepresentative\\nfrom\\nany\\nLosses\\narising\\nout\\nof\\nits\\nserving\\nas\\nthe \\nSellers’\\nRepresentative\\nhereunder ,\\nexcept\\nfor\\nLosses\\narising\\nout\\nof\\nor\\ncaused\\nby\\nthe\\nSellers’ \\nRepresentative’ s\\ngross\\nnegligence,\\nbad\\nfaith\\nor\\nwillful\\nmisconduct.\\nThe\\nSellers’\\nRepresentative \\nis\\nserving\\nin\\nits\\ncapacity\\nas\\nsuch\\nsolely\\nfor\\npurposes\\nof\\nadministrative\\nconvenience,\\nand\\nis\\nnot \\npersonally\\nliable\\nin\\nsuch\\ncapacity\\nfor\\nany\\nof\\nthe\\nobligations\\nof\\nthe\\nSellers\\nhereunder ,\\nand\\nthe \\nBuyer\\nagrees\\nthat\\nit\\nwill\\nnot\\nlook\\nto\\nthe\\npersonal\\nassets\\nof\\nthe\\nSellers’\\nRepresentative,\\nacting\\nin \\nsuch\\ncapacity ,\\nfor\\nthe\\nsatisfaction\\nof\\nany\\nobligations\\nto\\nbe\\nperformed\\nby\\nthe\\nSellers\\nhereunder .\\n-\\n62\\n-\\n112923184_5'),\n",
       " Document(page_content='(a)\\nEstimated\\nPurchase\\nPrice\\n.\\nThe\\nPurchase\\nPrice\\npayable\\nat\\nClosing\\nunder \\nSection 2.05(a)(i)\\n(the\\n“\\nEstimated\\nPurchase\\nPrice\\n”)\\nshall\\nbe\\ncalculated\\nusing\\nthe\\nestimated \\nClosing\\nDebt\\nAmount,\\nestimated\\nClosing\\nCash\\nAmount\\nand\\nestimated\\nSeller\\nTransaction \\nExpenses\\nset\\nforth\\non\\nthe\\nEstimated\\nClosing\\nStatement.\\n(b)\\nProposed\\nFinal\\nClosing\\nStatement\\n.\\nWithin\\nsixty\\n(60)\\ncalendar\\ndays\\nafter\\nthe \\nClosing\\nDate,\\nthe\\nCompany\\nshall\\nprepare\\nor\\ncause\\nto\\nbe\\nprepared,\\nand\\nwill\\nprovide\\nto\\nthe\\nSellers’ \\nRepresentative,\\na\\nwritten\\nstatement\\nsetting\\nforth\\nin\\nreasonable\\ndetail\\nits\\nproposed\\nfinal \\ndetermination\\nof\\nthe\\nClosing\\nDebt\\nAmount,\\nClosing\\nCash\\nAmount,\\nand\\nthe\\nSeller\\nTransaction \\nExpenses\\n(the\\n“\\nProposed\\nFinal\\nClosing\\nStatement\\n”).\\nThe\\nProposed\\nFinal\\nClosing\\nStatement\\nwill \\nbe\\nprepared\\nin\\naccordance\\nwith\\nthe\\nAccounting\\nPrinciples\\nand\\nwithout\\ngiving\\neffect\\nto\\nany \\nchanges\\nresulting\\nfrom\\nthe\\nconsummation\\nof\\nthe\\nContemplated\\nTransactions\\non\\nthe\\nClosing\\nDate. \\nThe\\nSellers’\\nRepresentative\\nand\\nits\\nRepresentatives\\nshall\\nhave\\nreasonable\\naccess\\nto\\nthe\\nwork \\npapers\\nand\\nother\\nbooks\\nand\\nrecords\\nof\\nthe\\nAcquired\\nCompanies\\nand\\nto\\nthe\\npersons\\nwho\\nprepared \\nthe\\nProposed\\nFinal\\nClosing\\nStatement,\\nfor\\npurposes\\nof\\nassisting\\nthe\\nSellers’\\nRepresentative\\nand \\nits\\nRepresentatives\\nin\\ntheir\\nreview\\nof\\nthe\\nProposed\\nFinal\\nClosing\\nStatement.\\n(c)\\nDispute\\nNotice\\n.\\nThe\\nProposed\\nFinal\\nClosing\\nStatement\\n(and\\nthe\\nproposed\\nfinal \\ndeterminations\\nof\\nthe\\nClosing\\nDebt\\nAmount,\\nthe\\nClosing\\nCash\\nAmount,\\nand\\nthe\\nSeller \\nTransaction\\nExpenses\\nreflected\\nthereon)\\nwill\\nbe\\nfinal,\\nconclusive\\nand\\nbinding\\non\\nthe\\nparties \\nunless\\nthe\\nSellers’\\nRepresentative\\nprovides\\na\\nwritten\\nnotice\\n(a\\n“\\nDispute\\nNotice\\n”)\\nto\\nBuyer\\nno \\nlater\\nthan\\nthe\\nthirtieth\\n(30th)\\nBusiness\\nDay\\nafter\\nthe\\ndelivery\\nto\\nthe\\nSellers’\\nRepresentative\\nof\\nthe \\nProposed\\nFinal\\nClosing\\nStatement.\\nAny\\nDispute\\nNotice\\nmust\\nset\\nforth\\nin\\nreasonable\\ndetail\\nany \\nitem\\non\\nthe\\nProposed\\nFinal\\nClosing\\nStatement\\nwhich\\nthe\\nSellers’\\nRepresentative\\nbelieves\\nhas\\nnot \\nbeen\\nprepared\\nin\\naccordance\\nwith\\nthis\\nAgreement.\\nAny\\nitem\\nor\\namount\\nto\\nwhich\\nno\\ndispute\\nis \\nraised\\nin\\nthe\\nDispute\\nNotice\\nwill\\nbe\\nfinal,\\nconclusive\\nand\\nbinding\\non\\nthe\\nparties\\non\\nsuch\\nthirtieth \\n(30th)\\nBusiness\\nDay.\\n(d)\\nResolution\\nof\\nDisputes\\n.\\nBuyer\\nand\\nthe\\nSellers’\\nRepresentative\\nwill\\nattempt\\nto \\npromptly\\nresolve\\nthe\\nmatters\\nraised\\nin\\nany\\nDispute\\nNotice\\nin\\ngood\\nfaith.\\nBeginning\\nten\\n(10) \\nBusiness\\nDays\\nafter\\ndelivery\\nof\\nany\\nDispute\\nNotice\\npursuant\\nto\\nSection\\n2.07(d)\\n,\\neither\\nBuyer\\nor \\nthe\\nSellers’\\nRepresentative\\nmay\\nprovide\\nwritten\\nnotice\\nto\\nthe\\nother\\n(the\\n“\\nDispute\\nSubmission \\nNotice\\n”)\\nthat\\nit\\nelects\\nto\\nsubmit\\nthe\\ndisputed\\nitems\\nto\\na\\nnationally\\nrecognized\\nindependent \\naccounting\\nfirm\\nchosen\\njointly\\nby\\nBuyer\\nand\\nthe\\nSellers’\\nRepresentative\\n(the\\n“\\nAccounting \\nFirm\\n”).\\nThe\\nAccounting\\nFirm\\nwill\\npromptly ,\\nin\\naccordance\\nwith\\nthe\\nguidelines\\nand\\nprocedures \\nset\\nforth\\nin\\nthis\\nAgreement,\\nreview\\nonly\\nthose\\nunresolved\\nitems\\nand\\namounts\\nspecifically\\nset \\nforth\\nand\\nobjected\\nto\\nin\\nthe\\nDispute\\nNotice\\nand\\nresolve\\nthe\\ndispute\\nwith\\nrespect\\nto\\neach\\nsuch \\nspecific\\nunresolved\\nitem\\nand\\namount\\nin\\naccordance\\nwith\\nthis\\nAgreement.\\nThe\\nAccounting\\nFirm \\nshall\\nrender\\na\\nwritten\\ndecision\\nas\\nto\\neach\\ndisputed\\nmatter ,\\nincluding\\na\\nstatement\\nin\\nreasonable \\ndetail\\nof\\nthe\\nbasis\\nfor\\nits\\ndecision.\\nThe\\nfees,\\ncosts\\nand\\nexpenses\\nof\\nthe\\nAccounting\\nFirm\\nwill\\nbe \\nallocated\\nbetween\\nBuyer ,\\non\\nthe\\none\\nhand,\\nand\\nSellers’\\nRepresentative\\n(on\\nbehalf\\nof\\nthe \\nCompany\\nSecurityholders),\\non\\nthe\\nother\\nhand,\\nbased\\nupon\\nthe\\npercentage\\nwhich\\nthe\\nportion\\nof \\nthe\\ncontested\\namount\\nnot\\nawarded\\nto\\nBuyer ,\\non\\nthe\\none\\nhand,\\nand\\nSellers’\\nRepresentative,\\non\\nthe \\nother\\nhand,\\nbears\\nto\\nthe\\namount\\nactually\\ncontested\\nby\\nsuch\\nPerson,\\nas\\ndetermined\\nby\\nthe \\nAccounting\\nFirm.\\nThe\\ndecision\\nof\\nthe\\nAccounting\\nFirm\\nwith\\nrespect\\nto\\nthe\\ndisputed\\nitems\\nof\\nthe \\nProposed\\nFinal\\nClosing\\nStatement\\nsubmitted\\nto\\nit\\nwill\\nbe\\nfinal,\\nconclusive\\nand\\nbinding\\non\\nthe \\nparties.\\nAs\\nused\\nherein,\\nthe\\nProposed\\nFinal\\nClosing\\nStatement\\nas\\nadjusted\\nto\\nreflect\\nany\\nchanges\\n-\\n20\\n-\\n112923184_5')]"
      ]
     },
     "execution_count": 10,
     "metadata": {},
     "output_type": "execute_result"
    }
   ],
   "source": [
    "retriever.get_relevant_documents(\"How much is the Escrow amount?\")"
   ]
  },
  {
   "cell_type": "code",
   "execution_count": 17,
   "metadata": {},
   "outputs": [],
   "source": [
    "\n",
    "def create_chians(retriever):\n",
    "        # Define LLM\n",
    "    llm = ChatOpenAI(openai_api_key = OPENAI_KEY,model_name=\"gpt-3.5-turbo\", temperature=0)\n",
    "\n",
    "    # Define prompt template\n",
    "    prompt_template = \"\"\"You are an assistant for question-answering tasks. \n",
    "    Use the following pieces of retrieved context to answer the question. \n",
    "    If you don't know the answer, just say that you don't know. \n",
    "    Question: {question} \n",
    "    Context: {context} \n",
    "    Answer:\n",
    "    \"\"\"\n",
    "\n",
    "    prompt = ChatPromptTemplate.from_template(prompt_template)\n",
    "\n",
    "\n",
    "    retrieval = RunnableParallel(\n",
    "        {\"context\": retriever,  \"question\": RunnablePassthrough()} \n",
    "    )\n",
    "\n",
    "    chain = retrieval | prompt | llm | StrOutputParser()\n",
    "\n",
    "    return chain"
   ]
  },
  {
   "cell_type": "code",
   "execution_count": 18,
   "metadata": {},
   "outputs": [],
   "source": [
    "chain = create_chians(retriever)"
   ]
  },
  {
   "cell_type": "code",
   "execution_count": 19,
   "metadata": {},
   "outputs": [
    {
     "name": "stderr",
     "output_type": "stream",
     "text": [
      "/home/kerod/Desktop/week_11/RAG-system-for-Contract-Q-A/week_11/lib/python3.10/site-packages/pydantic/main.py:1024: PydanticDeprecatedSince20: The `dict` method is deprecated; use `model_dump` instead. Deprecated in Pydantic V2.0 to be removed in V3.0. See Pydantic V2 Migration Guide at https://errors.pydantic.dev/2.6/migration/\n",
      "  warnings.warn('The `dict` method is deprecated; use `model_dump` instead.', category=PydanticDeprecatedSince20)\n"
     ]
    }
   ],
   "source": [
    "answer = chain.invoke(\"how much is the escrow amount?\")"
   ]
  },
  {
   "cell_type": "code",
   "execution_count": 20,
   "metadata": {},
   "outputs": [
    {
     "data": {
      "text/plain": [
       "'The escrow amount is deposited by the Buyer at Closing and is held in a separate account governed by the terms of the Escrow Agreement. The Escrow Amount will be released to the Company Securityholders in accordance with the provisions of the Escrow Agreement.'"
      ]
     },
     "execution_count": 20,
     "metadata": {},
     "output_type": "execute_result"
    }
   ],
   "source": [
    "answer"
   ]
  }
 ],
 "metadata": {
  "kernelspec": {
   "display_name": "week_11",
   "language": "python",
   "name": "python3"
  },
  "language_info": {
   "codemirror_mode": {
    "name": "ipython",
    "version": 3
   },
   "file_extension": ".py",
   "mimetype": "text/x-python",
   "name": "python",
   "nbconvert_exporter": "python",
   "pygments_lexer": "ipython3",
   "version": "3.10.12"
  }
 },
 "nbformat": 4,
 "nbformat_minor": 2
}
