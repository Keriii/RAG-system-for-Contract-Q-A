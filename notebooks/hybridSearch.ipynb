{
 "cells": [
  {
   "cell_type": "code",
   "execution_count": 1,
   "metadata": {},
   "outputs": [
    {
     "name": "stderr",
     "output_type": "stream",
     "text": [
      "/home/kerod/Desktop/week_11/RAG-system-for-Contract-Q-A/week_11/lib/python3.10/site-packages/tqdm/auto.py:21: TqdmWarning: IProgress not found. Please update jupyter and ipywidgets. See https://ipywidgets.readthedocs.io/en/stable/user_install.html\n",
      "  from .autonotebook import tqdm as notebook_tqdm\n"
     ]
    }
   ],
   "source": [
    "from langchain.text_splitter import CharacterTextSplitter, RecursiveCharacterTextSplitter\n",
    "from langchain.chat_models import ChatOpenAI\n",
    "from langchain.prompts import ChatPromptTemplate\n",
    "from langchain.embeddings import OpenAIEmbeddings\n",
    "from langchain.vectorstores import Weaviate\n",
    "from langchain_openai import ChatOpenAI\n",
    "\n",
    "import weaviate\n",
    "from dotenv import load_dotenv,find_dotenv\n",
    "from weaviate.embedded import EmbeddedOptions\n",
    "from langchain_community.document_loaders import PyPDFLoader\n",
    "\n",
    "from langchain_core.runnables import (\n",
    "    RunnableParallel,\n",
    "    RunnablePassthrough\n",
    ")\n",
    "from langchain.schema.output_parser import StrOutputParser\n",
    "\n",
    "import os\n",
    "import sys\n",
    "sys.path.append('..')\n",
    "\n",
    "load_dotenv()\n",
    "\n",
    "# OPENAI_KEY=os.environ[\"OPENAI_API_KEY\"]\n",
    "\n",
    "from backend.rag_pipeline import *"
   ]
  },
  {
   "cell_type": "code",
   "execution_count": 13,
   "metadata": {},
   "outputs": [
    {
     "ename": "KeyError",
     "evalue": "'OPENAI_APIKEY'",
     "output_type": "error",
     "traceback": [
      "\u001b[0;31m---------------------------------------------------------------------------\u001b[0m",
      "\u001b[0;31mKeyError\u001b[0m                                  Traceback (most recent call last)",
      "Cell \u001b[0;32mIn[13], line 1\u001b[0m\n\u001b[0;32m----> 1\u001b[0m OPENAI_KEY\u001b[38;5;241m=\u001b[39m\u001b[43mos\u001b[49m\u001b[38;5;241;43m.\u001b[39;49m\u001b[43menviron\u001b[49m\u001b[43m[\u001b[49m\u001b[38;5;124;43m\"\u001b[39;49m\u001b[38;5;124;43mOPENAI_APIKEY\u001b[39;49m\u001b[38;5;124;43m\"\u001b[39;49m\u001b[43m]\u001b[49m\n",
      "File \u001b[0;32m/usr/lib/python3.10/os.py:680\u001b[0m, in \u001b[0;36m_Environ.__getitem__\u001b[0;34m(self, key)\u001b[0m\n\u001b[1;32m    677\u001b[0m     value \u001b[38;5;241m=\u001b[39m \u001b[38;5;28mself\u001b[39m\u001b[38;5;241m.\u001b[39m_data[\u001b[38;5;28mself\u001b[39m\u001b[38;5;241m.\u001b[39mencodekey(key)]\n\u001b[1;32m    678\u001b[0m \u001b[38;5;28;01mexcept\u001b[39;00m \u001b[38;5;167;01mKeyError\u001b[39;00m:\n\u001b[1;32m    679\u001b[0m     \u001b[38;5;66;03m# raise KeyError with the original key value\u001b[39;00m\n\u001b[0;32m--> 680\u001b[0m     \u001b[38;5;28;01mraise\u001b[39;00m \u001b[38;5;167;01mKeyError\u001b[39;00m(key) \u001b[38;5;28;01mfrom\u001b[39;00m \u001b[38;5;28;01mNone\u001b[39;00m\n\u001b[1;32m    681\u001b[0m \u001b[38;5;28;01mreturn\u001b[39;00m \u001b[38;5;28mself\u001b[39m\u001b[38;5;241m.\u001b[39mdecodevalue(value)\n",
      "\u001b[0;31mKeyError\u001b[0m: 'OPENAI_APIKEY'"
     ]
    }
   ],
   "source": [
    "OPENAI_KEY=os.environ[\"OPENAI_APIKEY\"]\n"
   ]
  },
  {
   "cell_type": "code",
   "execution_count": 2,
   "metadata": {},
   "outputs": [],
   "source": [
    "loader = PyPDFLoader(\"../data/RaptorContract.pdf\")\n",
    "\n",
    "data = data_loader(loader)"
   ]
  },
  {
   "cell_type": "code",
   "execution_count": 3,
   "metadata": {},
   "outputs": [],
   "source": [
    "docs = text_splitter(data)"
   ]
  },
  {
   "cell_type": "code",
   "execution_count": 6,
   "metadata": {},
   "outputs": [
    {
     "name": "stderr",
     "output_type": "stream",
     "text": [
      "/home/kerod/Desktop/week_11/RAG-system-for-Contract-Q-A/week_11/lib/python3.10/site-packages/weaviate/warnings.py:158: DeprecationWarning: Dep016: You are using the Weaviate v3 client, which is deprecated.\n",
      "            Consider upgrading to the new and improved v4 client instead!\n",
      "            See here for usage: https://weaviate.io/developers/weaviate/client-libraries/python\n",
      "            \n",
      "  warnings.warn(\n"
     ]
    },
    {
     "name": "stdout",
     "output_type": "stream",
     "text": [
      "Started /home/kerod/.cache/weaviate-embedded: process ID 11523\n"
     ]
    },
    {
     "name": "stderr",
     "output_type": "stream",
     "text": [
      "{\"action\":\"startup\",\"default_vectorizer_module\":\"none\",\"level\":\"info\",\"msg\":\"the default vectorizer modules is set to \\\"none\\\", as a result all new schema classes without an explicit vectorizer setting, will use this vectorizer\",\"time\":\"2024-02-28T22:02:01+03:00\"}\n",
      "{\"action\":\"startup\",\"auto_schema_enabled\":true,\"level\":\"info\",\"msg\":\"auto schema enabled setting is set to \\\"true\\\"\",\"time\":\"2024-02-28T22:02:01+03:00\"}\n",
      "{\"level\":\"info\",\"msg\":\"No resource limits set, weaviate will use all available memory and CPU. To limit resources, set LIMIT_RESOURCES=true\",\"time\":\"2024-02-28T22:02:01+03:00\"}\n",
      "{\"level\":\"warning\",\"msg\":\"Multiple vector spaces are present, GraphQL Explore and REST API list objects endpoint module include params has been disabled as a result.\",\"time\":\"2024-02-28T22:02:02+03:00\"}\n",
      "{\"action\":\"grpc_startup\",\"level\":\"info\",\"msg\":\"grpc server listening at [::]:50060\",\"time\":\"2024-02-28T22:02:02+03:00\"}\n",
      "{\"action\":\"restapi_management\",\"level\":\"info\",\"msg\":\"Serving weaviate at http://127.0.0.1:8079\",\"time\":\"2024-02-28T22:02:02+03:00\"}\n",
      "{\"level\":\"info\",\"msg\":\"Completed loading shard langchain_0dac4f57195049cf9e626f0507b92a08_G7DvBfAP80yC in 105.334969ms\",\"time\":\"2024-02-28T22:02:03+03:00\"}\n",
      "{\"action\":\"hnsw_vector_cache_prefill\",\"count\":3000,\"index_id\":\"main\",\"level\":\"info\",\"limit\":1000000000000,\"msg\":\"prefilled vector cache\",\"time\":\"2024-02-28T22:02:03+03:00\",\"took\":356997}\n",
      "{\"level\":\"info\",\"msg\":\"Completed loading shard langchain_qg8wk9ySjGaL in 106.769037ms\",\"time\":\"2024-02-28T22:02:03+03:00\"}\n",
      "{\"action\":\"hnsw_vector_cache_prefill\",\"count\":3000,\"index_id\":\"main\",\"level\":\"info\",\"limit\":1000000000000,\"msg\":\"prefilled vector cache\",\"time\":\"2024-02-28T22:02:03+03:00\",\"took\":358110}\n",
      "{\"level\":\"info\",\"msg\":\"Completed loading shard langchain_b39fb76250cb4234aa4930cb93edd54c_R0N9WUaJJOVq in 150.264123ms\",\"time\":\"2024-02-28T22:02:03+03:00\"}\n",
      "{\"action\":\"hnsw_vector_cache_prefill\",\"count\":3000,\"index_id\":\"main\",\"level\":\"info\",\"limit\":1000000000000,\"msg\":\"prefilled vector cache\",\"time\":\"2024-02-28T22:02:03+03:00\",\"took\":328556}\n",
      "{\"level\":\"info\",\"msg\":\"Completed loading shard langchain_3d2a43ef3c75447fbfa4e438b6b01896_HEnax2XhO71s in 175.570565ms\",\"time\":\"2024-02-28T22:02:03+03:00\"}\n",
      "{\"action\":\"hnsw_vector_cache_prefill\",\"count\":3000,\"index_id\":\"main\",\"level\":\"info\",\"limit\":1000000000000,\"msg\":\"prefilled vector cache\",\"time\":\"2024-02-28T22:02:03+03:00\",\"took\":321794}\n",
      "{\"level\":\"info\",\"msg\":\"Completed loading shard langchain_5b8d7d9649d44ee4bef922dc8aec9304_BzkZxSRZOZaF in 174.513082ms\",\"time\":\"2024-02-28T22:02:03+03:00\"}\n",
      "{\"level\":\"info\",\"msg\":\"Completed loading shard langchain_4d6ed4972084412fb03b44f629982630_93G9ahncJcnK in 175.56478ms\",\"time\":\"2024-02-28T22:02:03+03:00\"}\n",
      "{\"action\":\"hnsw_vector_cache_prefill\",\"count\":3000,\"index_id\":\"main\",\"level\":\"info\",\"limit\":1000000000000,\"msg\":\"prefilled vector cache\",\"time\":\"2024-02-28T22:02:03+03:00\",\"took\":390343}\n",
      "{\"action\":\"hnsw_vector_cache_prefill\",\"count\":3000,\"index_id\":\"main\",\"level\":\"info\",\"limit\":1000000000000,\"msg\":\"prefilled vector cache\",\"time\":\"2024-02-28T22:02:03+03:00\",\"took\":375877}\n",
      "{\"level\":\"info\",\"msg\":\"Completed loading shard langchain_7b1b2004e8bc4435b85f957a2d95fc30_aDfuuLDCWhAm in 186.602626ms\",\"time\":\"2024-02-28T22:02:03+03:00\"}\n",
      "{\"action\":\"hnsw_vector_cache_prefill\",\"count\":3000,\"index_id\":\"main\",\"level\":\"info\",\"limit\":1000000000000,\"msg\":\"prefilled vector cache\",\"time\":\"2024-02-28T22:02:03+03:00\",\"took\":393728}\n",
      "{\"level\":\"info\",\"msg\":\"Completed loading shard langchain_75c2e7e4071b41f897955c58a7b70f59_HsN1E9xg79QY in 190.330522ms\",\"time\":\"2024-02-28T22:02:03+03:00\"}\n",
      "{\"action\":\"hnsw_vector_cache_prefill\",\"count\":3000,\"index_id\":\"main\",\"level\":\"info\",\"limit\":1000000000000,\"msg\":\"prefilled vector cache\",\"time\":\"2024-02-28T22:02:03+03:00\",\"took\":340390}\n",
      "{\"level\":\"info\",\"msg\":\"Completed loading shard langchain_fe492b3756dd4fb59a71cbc5f9b78a9d_WdhrtDTGtuaA in 193.321686ms\",\"time\":\"2024-02-28T22:02:03+03:00\"}\n",
      "{\"action\":\"hnsw_vector_cache_prefill\",\"count\":3000,\"index_id\":\"main\",\"level\":\"info\",\"limit\":1000000000000,\"msg\":\"prefilled vector cache\",\"time\":\"2024-02-28T22:02:03+03:00\",\"took\":323160}\n",
      "{\"level\":\"info\",\"msg\":\"Completed loading shard langchain_c9a8a647d2a54c2a894407038e8aa164_7u3waajCfZcf in 198.429702ms\",\"time\":\"2024-02-28T22:02:03+03:00\"}\n",
      "{\"action\":\"hnsw_vector_cache_prefill\",\"count\":3000,\"index_id\":\"main\",\"level\":\"info\",\"limit\":1000000000000,\"msg\":\"prefilled vector cache\",\"time\":\"2024-02-28T22:02:03+03:00\",\"took\":341269}\n",
      "{\"level\":\"info\",\"msg\":\"Completed loading shard langchain_bfbc14f6ce144ef39f67f8594a51f120_yQwqycn9BEI6 in 321.099607ms\",\"time\":\"2024-02-28T22:02:03+03:00\"}\n",
      "{\"action\":\"hnsw_vector_cache_prefill\",\"count\":3000,\"index_id\":\"main\",\"level\":\"info\",\"limit\":1000000000000,\"msg\":\"prefilled vector cache\",\"time\":\"2024-02-28T22:02:03+03:00\",\"took\":314560}\n",
      "{\"level\":\"info\",\"msg\":\"Completed loading shard langchain_146409e93b524e3db51f32242cd23766_7GsE7edZiZ5e in 362.520766ms\",\"time\":\"2024-02-28T22:02:03+03:00\"}\n",
      "{\"action\":\"hnsw_vector_cache_prefill\",\"count\":3000,\"index_id\":\"main\",\"level\":\"info\",\"limit\":1000000000000,\"msg\":\"prefilled vector cache\",\"time\":\"2024-02-28T22:02:03+03:00\",\"took\":823275}\n",
      "{\"level\":\"info\",\"msg\":\"Completed loading shard langchain_19683bb8bf754320952753ba371ce19f_1rBIP5Ah3nZh in 404.489349ms\",\"time\":\"2024-02-28T22:02:03+03:00\"}\n",
      "{\"action\":\"hnsw_vector_cache_prefill\",\"count\":3000,\"index_id\":\"main\",\"level\":\"info\",\"limit\":1000000000000,\"msg\":\"prefilled vector cache\",\"time\":\"2024-02-28T22:02:03+03:00\",\"took\":556825}\n",
      "{\"level\":\"info\",\"msg\":\"Completed loading shard langchain_12e72c6880f04d32b4b7522bfa3a4dc9_sGJ6jQEGcg7p in 420.266776ms\",\"time\":\"2024-02-28T22:02:03+03:00\"}\n",
      "{\"action\":\"hnsw_vector_cache_prefill\",\"count\":3000,\"index_id\":\"main\",\"level\":\"info\",\"limit\":1000000000000,\"msg\":\"prefilled vector cache\",\"time\":\"2024-02-28T22:02:03+03:00\",\"took\":1183287}\n",
      "{\"level\":\"info\",\"msg\":\"Completed loading shard langchain_c6c56147f0474af6bca00147c9f33c36_B3lXCMrR6DwP in 398.185972ms\",\"time\":\"2024-02-28T22:02:03+03:00\"}\n",
      "{\"action\":\"hnsw_vector_cache_prefill\",\"count\":3000,\"index_id\":\"main\",\"level\":\"info\",\"limit\":1000000000000,\"msg\":\"prefilled vector cache\",\"time\":\"2024-02-28T22:02:03+03:00\",\"took\":957859}\n",
      "{\"level\":\"info\",\"msg\":\"Completed loading shard langchain_96221a7ad7eb44069f240da22e77e871_ieodAM7Oum9t in 415.672864ms\",\"time\":\"2024-02-28T22:02:03+03:00\"}\n",
      "{\"action\":\"hnsw_vector_cache_prefill\",\"count\":3000,\"index_id\":\"main\",\"level\":\"info\",\"limit\":1000000000000,\"msg\":\"prefilled vector cache\",\"time\":\"2024-02-28T22:02:03+03:00\",\"took\":928783}\n",
      "{\"level\":\"info\",\"msg\":\"Completed loading shard langchain_2e04bf4bc1124cbe896c5941a2e6100e_Vfob5P1Zboth in 433.860359ms\",\"time\":\"2024-02-28T22:02:03+03:00\"}\n",
      "{\"action\":\"hnsw_vector_cache_prefill\",\"count\":3000,\"index_id\":\"main\",\"level\":\"info\",\"limit\":1000000000000,\"msg\":\"prefilled vector cache\",\"time\":\"2024-02-28T22:02:03+03:00\",\"took\":634016}\n",
      "{\"level\":\"info\",\"msg\":\"Completed loading shard langchain_bfd67dc7a1cb436cb738369fb5355932_7prxpaqakhoE in 414.980297ms\",\"time\":\"2024-02-28T22:02:03+03:00\"}\n",
      "{\"level\":\"info\",\"msg\":\"Completed loading shard langchain_3e621ec5a0a84527b0f671d6f9387b00_wfvANuQSzMfI in 434.840533ms\",\"time\":\"2024-02-28T22:02:03+03:00\"}\n",
      "{\"action\":\"hnsw_vector_cache_prefill\",\"count\":3000,\"index_id\":\"main\",\"level\":\"info\",\"limit\":1000000000000,\"msg\":\"prefilled vector cache\",\"time\":\"2024-02-28T22:02:03+03:00\",\"took\":599823}\n",
      "{\"action\":\"hnsw_vector_cache_prefill\",\"count\":3000,\"index_id\":\"main\",\"level\":\"info\",\"limit\":1000000000000,\"msg\":\"prefilled vector cache\",\"time\":\"2024-02-28T22:02:03+03:00\",\"took\":998238}\n",
      "{\"level\":\"info\",\"msg\":\"Completed loading shard langchain_5124386acc5c469885271d4faa60a42c_715xgLgbOngb in 433.580629ms\",\"time\":\"2024-02-28T22:02:03+03:00\"}\n",
      "{\"action\":\"hnsw_vector_cache_prefill\",\"count\":3000,\"index_id\":\"main\",\"level\":\"info\",\"limit\":1000000000000,\"msg\":\"prefilled vector cache\",\"time\":\"2024-02-28T22:02:03+03:00\",\"took\":731152}\n",
      "{\"level\":\"info\",\"msg\":\"Completed loading shard langchain_4a42bbccdc474df7b1d439042c62eee7_Kt3L1fIGFxI0 in 437.509309ms\",\"time\":\"2024-02-28T22:02:03+03:00\"}\n",
      "{\"action\":\"hnsw_vector_cache_prefill\",\"count\":3000,\"index_id\":\"main\",\"level\":\"info\",\"limit\":1000000000000,\"msg\":\"prefilled vector cache\",\"time\":\"2024-02-28T22:02:03+03:00\",\"took\":657713}\n",
      "{\"level\":\"info\",\"msg\":\"Completed loading shard langchain_71cb5189a73a4378aee2282831d4d4f7_7MTrh6cqrPJJ in 440.681653ms\",\"time\":\"2024-02-28T22:02:03+03:00\"}\n",
      "{\"level\":\"info\",\"msg\":\"Completed loading shard langchain_129d9df6a3fd48abab866bbf70b567e5_SGllBc5kxj4h in 450.9694ms\",\"time\":\"2024-02-28T22:02:03+03:00\"}\n",
      "{\"action\":\"hnsw_vector_cache_prefill\",\"count\":3000,\"index_id\":\"main\",\"level\":\"info\",\"limit\":1000000000000,\"msg\":\"prefilled vector cache\",\"time\":\"2024-02-28T22:02:03+03:00\",\"took\":1004600}\n",
      "{\"action\":\"hnsw_vector_cache_prefill\",\"count\":3000,\"index_id\":\"main\",\"level\":\"info\",\"limit\":1000000000000,\"msg\":\"prefilled vector cache\",\"time\":\"2024-02-28T22:02:03+03:00\",\"took\":732832}\n",
      "{\"level\":\"info\",\"msg\":\"Completed loading shard langchain_c09fe68c390c46d4b1d1177e0015ef84_DpyEpiDNXvJq in 432.737473ms\",\"time\":\"2024-02-28T22:02:03+03:00\"}\n",
      "{\"action\":\"hnsw_vector_cache_prefill\",\"count\":3000,\"index_id\":\"main\",\"level\":\"info\",\"limit\":1000000000000,\"msg\":\"prefilled vector cache\",\"time\":\"2024-02-28T22:02:03+03:00\",\"took\":678963}\n",
      "{\"level\":\"info\",\"msg\":\"Completed loading shard langchain_aabd1db6be194fa3803d640d08e5eeec_M1Yu3cRXaCDu in 437.730456ms\",\"time\":\"2024-02-28T22:02:03+03:00\"}\n",
      "{\"action\":\"hnsw_vector_cache_prefill\",\"count\":3000,\"index_id\":\"main\",\"level\":\"info\",\"limit\":1000000000000,\"msg\":\"prefilled vector cache\",\"time\":\"2024-02-28T22:02:03+03:00\",\"took\":688734}\n",
      "{\"level\":\"info\",\"msg\":\"Completed loading shard langchain_a793f69a718a4cdcb681fa76de262fde_88HaNiKgI9HW in 441.313278ms\",\"time\":\"2024-02-28T22:02:03+03:00\"}\n",
      "{\"level\":\"info\",\"msg\":\"Completed loading shard langchain_a58c905a8d5c4c639ec58a4d16fd34b1_WvxKxRjaQcPs in 445.412057ms\",\"time\":\"2024-02-28T22:02:03+03:00\"}\n",
      "{\"level\":\"info\",\"msg\":\"Completed loading shard langchain_d4f6e02f68b44a02917c79d3412190e3_NbQrJB8QuNGn in 435.077606ms\",\"time\":\"2024-02-28T22:02:03+03:00\"}\n",
      "{\"action\":\"hnsw_vector_cache_prefill\",\"count\":3000,\"index_id\":\"main\",\"level\":\"info\",\"limit\":1000000000000,\"msg\":\"prefilled vector cache\",\"time\":\"2024-02-28T22:02:03+03:00\",\"took\":735548}\n",
      "{\"level\":\"info\",\"msg\":\"Completed loading shard langchain_f3cfc364d6674c5ab6b7df0327c44b1c_e1DdqXUPoH1Z in 436.651613ms\",\"time\":\"2024-02-28T22:02:03+03:00\"}\n",
      "{\"action\":\"hnsw_vector_cache_prefill\",\"count\":3000,\"index_id\":\"main\",\"level\":\"info\",\"limit\":1000000000000,\"msg\":\"prefilled vector cache\",\"time\":\"2024-02-28T22:02:03+03:00\",\"took\":862944}\n",
      "{\"level\":\"info\",\"msg\":\"Completed loading shard langchain_ee6767afef8a494c887e2644822a195b_vtPj8DtXNBmC in 441.150135ms\",\"time\":\"2024-02-28T22:02:03+03:00\"}\n",
      "{\"action\":\"hnsw_vector_cache_prefill\",\"count\":3000,\"index_id\":\"main\",\"level\":\"info\",\"limit\":1000000000000,\"msg\":\"prefilled vector cache\",\"time\":\"2024-02-28T22:02:03+03:00\",\"took\":652916}\n",
      "{\"level\":\"info\",\"msg\":\"Completed loading shard langchain_9b8ead7718094d699e80f33557d178d7_5yvG0pmAvfi5 in 457.907671ms\",\"time\":\"2024-02-28T22:02:03+03:00\"}\n",
      "{\"action\":\"hnsw_vector_cache_prefill\",\"count\":3000,\"index_id\":\"main\",\"level\":\"info\",\"limit\":1000000000000,\"msg\":\"prefilled vector cache\",\"time\":\"2024-02-28T22:02:03+03:00\",\"took\":494087}\n",
      "{\"level\":\"info\",\"msg\":\"Completed loading shard langchain_70dc1775e9c5474cb1da9f8ec3a1274a_5YbWPc6IDoOo in 463.06515ms\",\"time\":\"2024-02-28T22:02:03+03:00\"}\n",
      "{\"level\":\"info\",\"msg\":\"Completed loading shard langchain_f86269016cd140cf8e42252039dbe5bd_iVnhoilocNVF in 444.274542ms\",\"time\":\"2024-02-28T22:02:03+03:00\"}\n",
      "{\"action\":\"hnsw_vector_cache_prefill\",\"count\":3000,\"index_id\":\"main\",\"level\":\"info\",\"limit\":1000000000000,\"msg\":\"prefilled vector cache\",\"time\":\"2024-02-28T22:02:03+03:00\",\"took\":725955}\n",
      "{\"action\":\"hnsw_vector_cache_prefill\",\"count\":3000,\"index_id\":\"main\",\"level\":\"info\",\"limit\":1000000000000,\"msg\":\"prefilled vector cache\",\"time\":\"2024-02-28T22:02:03+03:00\",\"took\":68101258}\n",
      "{\"action\":\"hnsw_vector_cache_prefill\",\"count\":3000,\"index_id\":\"main\",\"level\":\"info\",\"limit\":1000000000000,\"msg\":\"prefilled vector cache\",\"time\":\"2024-02-28T22:02:03+03:00\",\"took\":79507604}\n",
      "{\"action\":\"hnsw_vector_cache_prefill\",\"count\":3000,\"index_id\":\"main\",\"level\":\"info\",\"limit\":1000000000000,\"msg\":\"prefilled vector cache\",\"time\":\"2024-02-28T22:02:03+03:00\",\"took\":81524474}\n"
     ]
    }
   ],
   "source": [
    "import weaviate\n",
    "\n",
    "client = weaviate.Client(embedded_options=EmbeddedOptions)\n"
   ]
  },
  {
   "cell_type": "code",
   "execution_count": 4,
   "metadata": {},
   "outputs": [],
   "source": [
    "from langchain.retrievers.weaviate_hybrid_search import WeaviateHybridSearchRetriever"
   ]
  },
  {
   "cell_type": "code",
   "execution_count": 11,
   "metadata": {},
   "outputs": [],
   "source": [
    "retriever = WeaviateHybridSearchRetriever(\n",
    "    client=client,\n",
    "    index_name=\"LangChain\",\n",
    "    text_key=\"text\",\n",
    "    attributes=[],\n",
    "    create_schema_if_missing=True,\n",
    ")"
   ]
  },
  {
   "cell_type": "code",
   "execution_count": 12,
   "metadata": {},
   "outputs": [
    {
     "name": "stdout",
     "output_type": "stream",
     "text": [
      "{'error': [{'message': 'update vector: API Key: no api key found neither in request header: X-Openai-Api-Key nor in environment variable under OPENAI_APIKEY'}]}\n",
      "{'error': [{'message': 'update vector: API Key: no api key found neither in request header: X-Openai-Api-Key nor in environment variable under OPENAI_APIKEY'}]}\n",
      "{'error': [{'message': 'update vector: API Key: no api key found neither in request header: X-Openai-Api-Key nor in environment variable under OPENAI_APIKEY'}]}\n",
      "{'error': [{'message': 'update vector: API Key: no api key found neither in request header: X-Openai-Api-Key nor in environment variable under OPENAI_APIKEY'}]}\n",
      "{'error': [{'message': 'update vector: API Key: no api key found neither in request header: X-Openai-Api-Key nor in environment variable under OPENAI_APIKEY'}]}\n",
      "{'error': [{'message': 'update vector: API Key: no api key found neither in request header: X-Openai-Api-Key nor in environment variable under OPENAI_APIKEY'}]}\n",
      "{'error': [{'message': 'update vector: API Key: no api key found neither in request header: X-Openai-Api-Key nor in environment variable under OPENAI_APIKEY'}]}\n",
      "{'error': [{'message': 'update vector: API Key: no api key found neither in request header: X-Openai-Api-Key nor in environment variable under OPENAI_APIKEY'}]}\n",
      "{'error': [{'message': 'update vector: API Key: no api key found neither in request header: X-Openai-Api-Key nor in environment variable under OPENAI_APIKEY'}]}\n",
      "{'error': [{'message': 'update vector: API Key: no api key found neither in request header: X-Openai-Api-Key nor in environment variable under OPENAI_APIKEY'}]}\n",
      "{'error': [{'message': 'update vector: API Key: no api key found neither in request header: X-Openai-Api-Key nor in environment variable under OPENAI_APIKEY'}]}\n",
      "{'error': [{'message': 'update vector: API Key: no api key found neither in request header: X-Openai-Api-Key nor in environment variable under OPENAI_APIKEY'}]}\n",
      "{'error': [{'message': 'update vector: API Key: no api key found neither in request header: X-Openai-Api-Key nor in environment variable under OPENAI_APIKEY'}]}\n",
      "{'error': [{'message': 'update vector: API Key: no api key found neither in request header: X-Openai-Api-Key nor in environment variable under OPENAI_APIKEY'}]}\n",
      "{'error': [{'message': 'update vector: API Key: no api key found neither in request header: X-Openai-Api-Key nor in environment variable under OPENAI_APIKEY'}]}\n",
      "{'error': [{'message': 'update vector: API Key: no api key found neither in request header: X-Openai-Api-Key nor in environment variable under OPENAI_APIKEY'}]}\n",
      "{'error': [{'message': 'update vector: API Key: no api key found neither in request header: X-Openai-Api-Key nor in environment variable under OPENAI_APIKEY'}]}\n",
      "{'error': [{'message': 'update vector: API Key: no api key found neither in request header: X-Openai-Api-Key nor in environment variable under OPENAI_APIKEY'}]}\n",
      "{'error': [{'message': 'update vector: API Key: no api key found neither in request header: X-Openai-Api-Key nor in environment variable under OPENAI_APIKEY'}]}\n",
      "{'error': [{'message': 'update vector: API Key: no api key found neither in request header: X-Openai-Api-Key nor in environment variable under OPENAI_APIKEY'}]}\n",
      "{'error': [{'message': 'update vector: API Key: no api key found neither in request header: X-Openai-Api-Key nor in environment variable under OPENAI_APIKEY'}]}\n",
      "{'error': [{'message': 'update vector: API Key: no api key found neither in request header: X-Openai-Api-Key nor in environment variable under OPENAI_APIKEY'}]}\n",
      "{'error': [{'message': 'update vector: API Key: no api key found neither in request header: X-Openai-Api-Key nor in environment variable under OPENAI_APIKEY'}]}\n",
      "{'error': [{'message': 'update vector: API Key: no api key found neither in request header: X-Openai-Api-Key nor in environment variable under OPENAI_APIKEY'}]}\n",
      "{'error': [{'message': 'update vector: API Key: no api key found neither in request header: X-Openai-Api-Key nor in environment variable under OPENAI_APIKEY'}]}\n",
      "{'error': [{'message': 'update vector: API Key: no api key found neither in request header: X-Openai-Api-Key nor in environment variable under OPENAI_APIKEY'}]}\n",
      "{'error': [{'message': 'update vector: API Key: no api key found neither in request header: X-Openai-Api-Key nor in environment variable under OPENAI_APIKEY'}]}\n",
      "{'error': [{'message': 'update vector: API Key: no api key found neither in request header: X-Openai-Api-Key nor in environment variable under OPENAI_APIKEY'}]}\n",
      "{'error': [{'message': 'update vector: API Key: no api key found neither in request header: X-Openai-Api-Key nor in environment variable under OPENAI_APIKEY'}]}\n",
      "{'error': [{'message': 'update vector: API Key: no api key found neither in request header: X-Openai-Api-Key nor in environment variable under OPENAI_APIKEY'}]}\n",
      "{'error': [{'message': 'update vector: API Key: no api key found neither in request header: X-Openai-Api-Key nor in environment variable under OPENAI_APIKEY'}]}\n",
      "{'error': [{'message': 'update vector: API Key: no api key found neither in request header: X-Openai-Api-Key nor in environment variable under OPENAI_APIKEY'}]}\n",
      "{'error': [{'message': 'update vector: API Key: no api key found neither in request header: X-Openai-Api-Key nor in environment variable under OPENAI_APIKEY'}]}\n",
      "{'error': [{'message': 'update vector: API Key: no api key found neither in request header: X-Openai-Api-Key nor in environment variable under OPENAI_APIKEY'}]}\n",
      "{'error': [{'message': 'update vector: API Key: no api key found neither in request header: X-Openai-Api-Key nor in environment variable under OPENAI_APIKEY'}]}\n",
      "{'error': [{'message': 'update vector: API Key: no api key found neither in request header: X-Openai-Api-Key nor in environment variable under OPENAI_APIKEY'}]}\n",
      "{'error': [{'message': 'update vector: API Key: no api key found neither in request header: X-Openai-Api-Key nor in environment variable under OPENAI_APIKEY'}]}\n",
      "{'error': [{'message': 'update vector: API Key: no api key found neither in request header: X-Openai-Api-Key nor in environment variable under OPENAI_APIKEY'}]}\n",
      "{'error': [{'message': 'update vector: API Key: no api key found neither in request header: X-Openai-Api-Key nor in environment variable under OPENAI_APIKEY'}]}\n",
      "{'error': [{'message': 'update vector: API Key: no api key found neither in request header: X-Openai-Api-Key nor in environment variable under OPENAI_APIKEY'}]}\n",
      "{'error': [{'message': 'update vector: API Key: no api key found neither in request header: X-Openai-Api-Key nor in environment variable under OPENAI_APIKEY'}]}\n",
      "{'error': [{'message': 'update vector: API Key: no api key found neither in request header: X-Openai-Api-Key nor in environment variable under OPENAI_APIKEY'}]}\n",
      "{'error': [{'message': 'update vector: API Key: no api key found neither in request header: X-Openai-Api-Key nor in environment variable under OPENAI_APIKEY'}]}\n",
      "{'error': [{'message': 'update vector: API Key: no api key found neither in request header: X-Openai-Api-Key nor in environment variable under OPENAI_APIKEY'}]}\n",
      "{'error': [{'message': 'update vector: API Key: no api key found neither in request header: X-Openai-Api-Key nor in environment variable under OPENAI_APIKEY'}]}\n",
      "{'error': [{'message': 'update vector: API Key: no api key found neither in request header: X-Openai-Api-Key nor in environment variable under OPENAI_APIKEY'}]}\n",
      "{'error': [{'message': 'update vector: API Key: no api key found neither in request header: X-Openai-Api-Key nor in environment variable under OPENAI_APIKEY'}]}\n",
      "{'error': [{'message': 'update vector: API Key: no api key found neither in request header: X-Openai-Api-Key nor in environment variable under OPENAI_APIKEY'}]}\n",
      "{'error': [{'message': 'update vector: API Key: no api key found neither in request header: X-Openai-Api-Key nor in environment variable under OPENAI_APIKEY'}]}\n",
      "{'error': [{'message': 'update vector: API Key: no api key found neither in request header: X-Openai-Api-Key nor in environment variable under OPENAI_APIKEY'}]}\n",
      "{'error': [{'message': 'update vector: API Key: no api key found neither in request header: X-Openai-Api-Key nor in environment variable under OPENAI_APIKEY'}]}\n",
      "{'error': [{'message': 'update vector: API Key: no api key found neither in request header: X-Openai-Api-Key nor in environment variable under OPENAI_APIKEY'}]}\n",
      "{'error': [{'message': 'update vector: API Key: no api key found neither in request header: X-Openai-Api-Key nor in environment variable under OPENAI_APIKEY'}]}\n",
      "{'error': [{'message': 'update vector: API Key: no api key found neither in request header: X-Openai-Api-Key nor in environment variable under OPENAI_APIKEY'}]}\n",
      "{'error': [{'message': 'update vector: API Key: no api key found neither in request header: X-Openai-Api-Key nor in environment variable under OPENAI_APIKEY'}]}\n",
      "{'error': [{'message': 'update vector: API Key: no api key found neither in request header: X-Openai-Api-Key nor in environment variable under OPENAI_APIKEY'}]}\n",
      "{'error': [{'message': 'update vector: API Key: no api key found neither in request header: X-Openai-Api-Key nor in environment variable under OPENAI_APIKEY'}]}\n",
      "{'error': [{'message': 'update vector: API Key: no api key found neither in request header: X-Openai-Api-Key nor in environment variable under OPENAI_APIKEY'}]}\n",
      "{'error': [{'message': 'update vector: API Key: no api key found neither in request header: X-Openai-Api-Key nor in environment variable under OPENAI_APIKEY'}]}\n",
      "{'error': [{'message': 'update vector: API Key: no api key found neither in request header: X-Openai-Api-Key nor in environment variable under OPENAI_APIKEY'}]}\n",
      "{'error': [{'message': 'update vector: API Key: no api key found neither in request header: X-Openai-Api-Key nor in environment variable under OPENAI_APIKEY'}]}\n",
      "{'error': [{'message': 'update vector: API Key: no api key found neither in request header: X-Openai-Api-Key nor in environment variable under OPENAI_APIKEY'}]}\n",
      "{'error': [{'message': 'update vector: API Key: no api key found neither in request header: X-Openai-Api-Key nor in environment variable under OPENAI_APIKEY'}]}\n",
      "{'error': [{'message': 'update vector: API Key: no api key found neither in request header: X-Openai-Api-Key nor in environment variable under OPENAI_APIKEY'}]}\n",
      "{'error': [{'message': 'update vector: API Key: no api key found neither in request header: X-Openai-Api-Key nor in environment variable under OPENAI_APIKEY'}]}\n",
      "{'error': [{'message': 'update vector: API Key: no api key found neither in request header: X-Openai-Api-Key nor in environment variable under OPENAI_APIKEY'}]}\n",
      "{'error': [{'message': 'update vector: API Key: no api key found neither in request header: X-Openai-Api-Key nor in environment variable under OPENAI_APIKEY'}]}\n",
      "{'error': [{'message': 'update vector: API Key: no api key found neither in request header: X-Openai-Api-Key nor in environment variable under OPENAI_APIKEY'}]}\n",
      "{'error': [{'message': 'update vector: API Key: no api key found neither in request header: X-Openai-Api-Key nor in environment variable under OPENAI_APIKEY'}]}\n",
      "{'error': [{'message': 'update vector: API Key: no api key found neither in request header: X-Openai-Api-Key nor in environment variable under OPENAI_APIKEY'}]}\n",
      "{'error': [{'message': 'update vector: API Key: no api key found neither in request header: X-Openai-Api-Key nor in environment variable under OPENAI_APIKEY'}]}\n",
      "{'error': [{'message': 'update vector: API Key: no api key found neither in request header: X-Openai-Api-Key nor in environment variable under OPENAI_APIKEY'}]}\n",
      "{'error': [{'message': 'update vector: API Key: no api key found neither in request header: X-Openai-Api-Key nor in environment variable under OPENAI_APIKEY'}]}\n"
     ]
    },
    {
     "data": {
      "text/plain": [
       "['67ba0481-26e1-4be9-aef5-32a815770140',\n",
       " 'cd6a4e72-ad94-48f1-95cd-48c6f1e2acef',\n",
       " '13be9736-0c52-4237-985e-34adb29b5265',\n",
       " '3686ac2c-a26a-4214-a591-97128d3c9447',\n",
       " '709210b5-b0d2-4881-8212-08dee9bdbcd8',\n",
       " '92e35515-af98-4023-98b8-a0cf3de0ad5f',\n",
       " 'db4d8fa6-281c-4174-825e-ae6bf49b3c78',\n",
       " 'dae8229a-3c62-4f03-bab5-b36bfef86325',\n",
       " '99339540-01d6-4a1c-bfbe-8d3f847903b5',\n",
       " 'eeb6a06c-91ff-4876-b70e-e937623a607e',\n",
       " 'dcab13a8-01f2-4d7b-ac2e-e8858d167e56',\n",
       " '86a03d01-687c-40e8-ad5c-27ae0056d80f',\n",
       " '5cfe96b2-7c5f-4fe2-bdee-a53975c00b86',\n",
       " '751b46d4-a7d9-4a70-bd62-0db973a1f86b',\n",
       " 'de817de2-a79a-4612-b10b-b9277f97e943',\n",
       " 'cde7e4cb-1322-442c-b193-20be39fe628d',\n",
       " '74cc86b6-a898-4761-847e-bd33322405a0',\n",
       " '7868681c-f7ae-4741-9224-7d0a33d88585',\n",
       " 'da0966c8-aa55-4fd2-a622-ecb8a61fec06',\n",
       " 'e566a585-b818-4ee2-998f-4cbbfa8e17e8',\n",
       " 'f258a99c-d23c-4636-a4ed-9664fe6bfd69',\n",
       " '5fa2f5be-6423-4782-9b8a-3391b29ee7e6',\n",
       " '3368c672-67a6-4d84-84bc-258c83ca5273',\n",
       " '7bb6dfd9-501c-40de-848f-02122bc6f25a',\n",
       " 'fab10e1e-1fba-429d-9e1f-f0f85efe5c7f',\n",
       " 'f7150517-cce1-428d-818b-98e91417b1d9',\n",
       " 'e69da0ae-439c-4d9b-8096-083ede178959',\n",
       " '2809b6d1-f998-4df0-86f0-2ebbbc9518a9',\n",
       " 'ab49e08e-03d9-4334-80cc-0bad71f8b764',\n",
       " 'ff403a67-8676-49d5-8a40-bedb5576bfb3',\n",
       " '194f3dcc-7f1a-409f-b5cc-439925f0a11f',\n",
       " '039e4b7e-467f-4c88-93fe-2147815ebc7a',\n",
       " 'e65ba4a5-71c9-4632-ba23-0fe812f7b80c',\n",
       " '66a7dd89-f638-4107-b8ff-17ab353d59d2',\n",
       " '3e76ec6f-8159-44f3-9623-bb37a7598dc6',\n",
       " 'e64dd7c2-29a6-40ff-84f8-306f9f8c7e5f',\n",
       " '4d169e52-44a7-4ea1-940d-182775a4bb1b',\n",
       " '12ce4aca-7957-4c22-90fe-a7a2e7f85ae9',\n",
       " '674ef7cb-0aec-454d-89fd-19c7f0a9f32e',\n",
       " 'c2b0adac-cd77-40f2-8b0f-18ea876531ee',\n",
       " 'e3ba6a41-955c-4cc5-a74d-3ee4d02563d9',\n",
       " 'e44ebe4a-e4f3-4900-a028-01e9c6bbcf03',\n",
       " '2b98bf7c-bf9c-4e7e-a04a-5522cbab02d2',\n",
       " 'f7ddc5f3-e6af-476d-878c-8970648a7838',\n",
       " '1d2ced99-aaca-430c-9159-6b913010765f',\n",
       " '5e9b61d5-5b33-413e-b082-2ca14c37d1e3',\n",
       " '735d0632-d80c-46c5-9663-3067a7c101cf',\n",
       " '2cb9d43d-1db2-4719-9de2-e8bb5e38ab5b',\n",
       " '15e3a4d8-b9af-4f5a-989e-92267bef65f1',\n",
       " 'a1bf7c08-000f-41b5-a638-1909f8fc4f89',\n",
       " '612880c5-88e3-44eb-b163-934a7107c430',\n",
       " 'e54155de-4215-4518-97e9-ae896a910bf6',\n",
       " '85b867e7-5c7f-4329-9ac1-253c13dc2e62',\n",
       " 'a1acba2d-6dac-492a-90d3-0922fbe4f20a',\n",
       " '4507b617-7feb-466d-8c2a-e33d9fae5221',\n",
       " '26245751-263a-4235-92cd-6efcd19a6280',\n",
       " '0301f5b8-57fb-4dc0-b30a-4a285aac3ba1',\n",
       " '53207ea0-3c92-4336-8ca3-20e3c2bc2ef1',\n",
       " 'ccf0afe1-01c3-4977-ba9d-bd047fb31015',\n",
       " '14a576bd-93a6-42db-b8b4-91950efb89a6',\n",
       " 'c9cb2f41-bfbb-4c0c-9983-6ff16af8291c',\n",
       " 'f4b06293-6ed4-4200-8c98-6972b54e6d60',\n",
       " 'db283f9c-ab95-41ab-84e2-122a5f1a081c',\n",
       " 'ba9e4b76-810b-486c-b49d-b59243ab7dfc',\n",
       " '5688d4ca-f279-48ca-a5e9-db29ba277a96',\n",
       " '5f7fb920-d5c1-4b81-a856-84ade6bf725e',\n",
       " '25aae3ce-50ad-4ec1-8ffc-6db1e9dac2a5',\n",
       " '7ea028ad-f535-4527-ab63-813c83c39617',\n",
       " 'c5527b0a-0cbb-4258-a05f-5211573d5660',\n",
       " 'dc4ec1f3-4d98-4150-b689-e1b91f517428',\n",
       " 'd5889d3b-30a8-40a6-aa03-f463c86f2fca',\n",
       " 'a74110c9-0c8d-4d9f-907b-5ea48d2b2ede',\n",
       " '02b2fcb7-c3a0-45b1-9bab-d6a3d4370e7a']"
      ]
     },
     "execution_count": 12,
     "metadata": {},
     "output_type": "execute_result"
    }
   ],
   "source": [
    "retriever.add_documents(docs)"
   ]
  },
  {
   "cell_type": "code",
   "execution_count": null,
   "metadata": {},
   "outputs": [],
   "source": [
    "retriever.get_relevant_documents(\"How much is the Escrow amount?\")"
   ]
  }
 ],
 "metadata": {
  "kernelspec": {
   "display_name": "week_11",
   "language": "python",
   "name": "python3"
  },
  "language_info": {
   "codemirror_mode": {
    "name": "ipython",
    "version": 3
   },
   "file_extension": ".py",
   "mimetype": "text/x-python",
   "name": "python",
   "nbconvert_exporter": "python",
   "pygments_lexer": "ipython3",
   "version": "3.10.12"
  }
 },
 "nbformat": 4,
 "nbformat_minor": 2
}
